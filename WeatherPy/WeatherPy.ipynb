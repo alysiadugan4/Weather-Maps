{
 "cells": [
  {
   "cell_type": "markdown",
   "metadata": {},
   "source": [
    "# WeatherPy\n",
    "----\n"
   ]
  },
  {
   "cell_type": "code",
   "execution_count": 6,
   "metadata": {
    "scrolled": true
   },
   "outputs": [],
   "source": [
    "# Dependencies and Setup\n",
    "import matplotlib.pyplot as plt\n",
    "import pandas as pd\n",
    "import numpy as np\n",
    "import requests\n",
    "import time\n",
    "from scipy.stats import linregress\n",
    "\n",
    "# Import API key\n",
    "from api_keys import weather_api_key\n",
    "\n",
    "# Incorporated citipy to determine city based on latitude and longitude\n",
    "from citipy import citipy\n",
    "\n",
    "# Output File (CSV)\n",
    "output_data_file = \"cities.csv\"\n",
    "\n",
    "# Range of latitudes and longitudes\n",
    "lat_range = (-90, 90)\n",
    "lng_range = (-180, 180)"
   ]
  },
  {
   "cell_type": "markdown",
   "metadata": {},
   "source": [
    "## Generate Cities List"
   ]
  },
  {
   "cell_type": "code",
   "execution_count": 7,
   "metadata": {},
   "outputs": [
    {
     "data": {
      "text/plain": [
       "625"
      ]
     },
     "execution_count": 7,
     "metadata": {},
     "output_type": "execute_result"
    }
   ],
   "source": [
    "# List for holding lat_lngs and cities\n",
    "lat_lngs = []\n",
    "cities = []\n",
    "\n",
    "# Create a set of random lat and lng combinations\n",
    "lats = np.random.uniform(lat_range[0], lat_range[1], size=1500)\n",
    "lngs = np.random.uniform(lng_range[0], lng_range[1], size=1500)\n",
    "lat_lngs = zip(lats, lngs)\n",
    "\n",
    "# Identify nearest city for each lat, lng combination\n",
    "for lat_lng in lat_lngs:\n",
    "    city = citipy.nearest_city(lat_lng[0], lat_lng[1]).city_name\n",
    "    \n",
    "    # If the city is unique, then add it to a our cities list\n",
    "    if city not in cities:\n",
    "        cities.append(city)\n",
    "\n",
    "# Print the city count to confirm sufficient count\n",
    "len(cities)"
   ]
  },
  {
   "cell_type": "markdown",
   "metadata": {},
   "source": [
    "### Perform API Calls\n",
    "* Perform a weather check on each city using a series of successive API calls.\n"
   ]
  },
  {
   "cell_type": "code",
   "execution_count": 10,
   "metadata": {
    "scrolled": true
   },
   "outputs": [
    {
     "name": "stdout",
     "output_type": "stream",
     "text": [
      "1: Arraial do Cabo\n",
      "2: Matara\n",
      "3: Prainha\n",
      "4: Punta Arenas\n",
      "5: Yaan\n",
      "6: Saldanha\n",
      "7: Kazachinskoye\n",
      "8: Hobart\n",
      "9: Puerto Ayora\n",
      "10: Pisco\n",
      "11: East London\n",
      "12: New Norfolk\n",
      "13: Codrington\n",
      "Missing name data\n",
      "15: Khatanga\n",
      "16: Kurumkan\n",
      "17: Bluff\n",
      "18: Pereira Barreto\n",
      "19: Fairbanks\n",
      "20: Ancud\n",
      "21: Copiapó\n",
      "22: Takoradze\n",
      "23: Hermanus\n",
      "24: Kapaa\n",
      "25: Purranque\n",
      "Missing name data\n",
      "27: Hofn\n",
      "28: Killybegs\n",
      "29: Olafsvik\n",
      "30: Bredasdorp\n",
      "31: Maamba\n",
      "32: Brønnøysund\n",
      "33: Klaksvík\n",
      "34: Ribeira Grande\n",
      "35: Fortuna\n",
      "Missing name data\n",
      "37: Kutno\n",
      "38: Naze\n",
      "39: Waingapu\n",
      "40: Sabha\n",
      "41: Flin Flon\n",
      "42: Butaritari\n",
      "43: Quelimane\n",
      "44: Manaure\n",
      "45: Richards Bay\n",
      "46: Nohfelden\n",
      "47: Ushuaia\n",
      "48: Aleksandrov Gay\n",
      "49: Kozhva\n",
      "50: Boz\n",
      "51: Qaanaaq\n",
      "52: Rognan\n",
      "53: Faya\n",
      "54: Tasiilaq\n",
      "55: San Cristobal\n",
      "56: Ati\n",
      "57: Chokurdakh\n",
      "58: Lebu\n",
      "59: Sharjah city\n",
      "60: Sisimiut\n",
      "Missing name data\n",
      "62: Rikitea\n",
      "63: Westport\n",
      "64: Abu Kamal\n",
      "65: Manaus\n",
      "66: Mataura\n",
      "Missing name data\n",
      "Missing name data\n",
      "69: Uvinza\n",
      "70: Busselton\n",
      "71: Ürümqi\n",
      "72: Eureka\n",
      "73: Berdigestyakh\n",
      "74: Jamestown\n",
      "75: Nome\n",
      "76: Yar-Sale\n",
      "77: Lüshunkou\n",
      "78: Hoquiam\n",
      "79: Carnarvon\n",
      "80: São Félix do Xingu\n",
      "81: Mossamedes\n",
      "82: Lüderitz\n",
      "83: Yellowknife\n",
      "84: Kavieng\n",
      "85: Hilo\n",
      "86: West Wendover\n",
      "87: Albany\n",
      "88: Nikolskoye\n",
      "89: Panshi\n",
      "90: Kolokani\n",
      "91: Lompoc\n",
      "92: Tura\n",
      "93: Bara\n",
      "94: Alpena\n",
      "95: Eyl\n",
      "96: Vao\n",
      "97: Bengkulu\n",
      "98: Upernavik\n",
      "99: Barrow\n",
      "100: Nokaneng\n",
      "101: Merauke\n",
      "102: Saskylakh\n",
      "103: Bāndarban\n",
      "104: Santa Maria\n",
      "105: Temyasovo\n",
      "106: Port Alfred\n",
      "Missing name data\n",
      "108: Dakar\n",
      "109: Broken Hill\n",
      "110: Egvekinot\n",
      "111: Cape Town\n",
      "112: Lagoa\n",
      "113: Aksarka\n",
      "114: Luocheng\n",
      "115: Cockburn Town\n",
      "116: Christchurch\n",
      "117: Kumul\n",
      "118: Nelson Bay\n",
      "119: Lermontovka\n",
      "120: George Town\n",
      "121: Andenes\n",
      "122: Alice Springs\n",
      "123: Kairana\n",
      "Missing name data\n",
      "125: Yeppoon\n",
      "126: Funadhoo\n",
      "127: Poum\n",
      "128: Severo-Kuril'sk\n",
      "129: São Filipe\n",
      "Missing name data\n",
      "131: Quatre Cocos\n",
      "132: Husavik\n",
      "133: Pentecoste\n",
      "134: Lakatoro\n",
      "135: Avarua\n",
      "Missing name data\n",
      "137: Banda Aceh\n",
      "138: Chapais\n",
      "139: Bumba\n",
      "140: Kanye\n",
      "Missing name data\n",
      "142: Manadhoo\n",
      "143: Shimanovsk\n",
      "144: Biltine\n",
      "145: Norman Wells\n",
      "146: Dingle\n",
      "147: Bethel\n",
      "148: Hasaki\n",
      "149: Honiara\n",
      "150: Haines Junction\n",
      "151: Mar del Plata\n",
      "152: Luwingu\n",
      "153: Talnakh\n",
      "154: Breves\n",
      "155: Yerbogachën\n",
      "156: Kaitangata\n",
      "157: Faanui\n",
      "158: Mahébourg\n",
      "159: Caraguatatuba\n",
      "160: Dikson\n",
      "161: Jalu\n",
      "162: Bambous Virieux\n",
      "Missing name data\n",
      "164: ‘Āhuimanu\n",
      "Missing name data\n",
      "166: Vaini\n",
      "167: Xinzhi\n",
      "168: Sørland\n",
      "169: Yangi Marg`ilon\n",
      "170: Itoman\n",
      "171: Boca do Acre\n",
      "172: Abu Samrah\n",
      "173: Atuona\n",
      "174: Kodinsk\n",
      "175: Ha Tinh\n",
      "176: Kibaya\n",
      "177: Paamiut\n",
      "178: Port Lincoln\n",
      "179: Hambantota\n",
      "180: Traralgon\n",
      "Missing name data\n",
      "182: Kālīganj\n",
      "183: Isangel\n",
      "184: Catuday\n",
      "185: Saint-Philippe\n",
      "186: Yūbari\n",
      "187: Bambanglipuro\n",
      "188: San Patricio\n",
      "189: Arlit\n",
      "190: Sevierville\n",
      "191: Tuktoyaktuk\n",
      "192: Sur\n",
      "193: San Quintín\n",
      "194: Karratha\n",
      "195: Schwedt\n",
      "196: Villa Tecolutilla\n",
      "197: Alexandria\n",
      "198: Toora-Khem\n",
      "199: Hobyo\n",
      "200: Gouyave\n",
      "201: Chase\n",
      "Missing name data\n",
      "203: Airai\n",
      "204: Stornoway\n",
      "205: Waoundé\n",
      "206: Kidal\n",
      "207: Port Elizabeth\n",
      "208: Port Blair\n",
      "209: Gushikawa\n",
      "210: Gejiu\n",
      "211: Iralaya\n",
      "212: Rawson\n",
      "213: Ingham\n",
      "214: Mandalgovi\n",
      "215: Bandarbeyla\n",
      "216: Chui\n",
      "Missing name data\n",
      "218: Shingū\n",
      "219: Nizhneangarsk\n",
      "220: Leningradskiy\n",
      "221: Thompson\n",
      "222: Kandrian\n",
      "223: Road Town\n",
      "224: Kloulklubed\n",
      "225: Nacala\n",
      "226: Harper\n",
      "227: Samarai\n",
      "228: Bilma\n",
      "229: Changli\n",
      "230: North Platte\n",
      "231: Ulaanbaatar\n",
      "232: Władysławowo\n",
      "233: Esperance\n",
      "234: Sitka\n",
      "235: Mason City\n",
      "236: Varhaug\n",
      "237: Trairi\n",
      "238: Presidencia Roque Sáenz Peña\n",
      "239: Khani\n",
      "240: São Gabriel da Cachoeira\n",
      "241: Tabou\n",
      "242: Torbay\n",
      "243: Laela\n",
      "244: Saint George\n",
      "245: Dodge City\n",
      "246: Dalmatovo\n",
      "247: Nanortalik\n",
      "248: Ostrovnoy\n",
      "249: Ayaviri\n",
      "250: Zhangaözen\n",
      "251: Lorengau\n",
      "252: Severobaykal'sk\n",
      "253: Tuatapere\n",
      "254: Laguna\n",
      "255: Banjar\n",
      "256: Coyhaique\n",
      "257: Ilulissat\n",
      "258: Hithadhoo\n",
      "Missing name data\n",
      "260: Bani Walid\n",
      "261: Boyabat\n",
      "262: Rocha\n",
      "263: Provideniya\n",
      "264: Srednekolymsk\n",
      "265: Palora\n",
      "266: Kurchum\n",
      "Missing name data\n",
      "268: Yulara\n",
      "269: Geraldton\n",
      "270: Itarema\n",
      "271: San Juan\n",
      "272: Vila Franca do Campo\n",
      "273: Grand Gaube\n",
      "274: Maniitsoq\n",
      "Missing name data\n",
      "276: Ilebo\n",
      "277: Sarāhan\n",
      "278: Ejea de los Caballeros\n",
      "279: Santa Inês\n",
      "280: Kearney\n",
      "281: Verkhnyaya Inta\n",
      "282: Castro\n",
      "283: Ambon City\n",
      "Missing name data\n",
      "285: La Rioja\n",
      "286: Saint Anthony\n",
      "Missing name data\n",
      "288: Birobidzhan\n",
      "289: Umm Kaddadah\n",
      "290: Bemidji\n",
      "291: Lavrentiya\n",
      "292: Voh\n",
      "293: Shama\n",
      "294: Viedma\n",
      "295: Kanashevo\n",
      "296: Juneau\n",
      "297: Lambayeque\n",
      "298: Andros Town\n",
      "299: Vestmannaeyjar\n",
      "300: Taltal\n",
      "301: Nouadhibou\n",
      "302: Caravelas\n",
      "303: Port Keats\n",
      "304: La Unión\n",
      "305: Kyra\n",
      "306: Zyryanka\n",
      "307: Aklavik\n",
      "308: Bereket\n",
      "309: Ponta Delgada\n",
      "310: Muriwai Beach\n",
      "311: Zhigansk\n",
      "312: Oodweyne\n",
      "313: Soto la Marina\n",
      "314: Longyearbyen\n",
      "315: Katobu\n",
      "316: Seoul\n",
      "317: Tadine\n",
      "318: Port Hedland\n",
      "319: General Pico\n",
      "320: Taksimo\n",
      "321: Penzance\n",
      "322: Mundo Novo\n",
      "323: Agadez\n",
      "324: Necochea\n",
      "325: Lima\n",
      "326: Sittwe\n",
      "327: Barras\n",
      "328: Broome\n",
      "329: Vardø\n",
      "330: Kherālu\n",
      "331: Zhezkazgan\n",
      "332: Témiscaming\n",
      "Missing name data\n",
      "334: Inhambane\n",
      "335: Lexington\n",
      "336: Panjāb\n",
      "337: Constantine\n",
      "338: Sorrento\n",
      "339: Sabzawār\n",
      "340: Cap Malheureux\n",
      "341: Padang\n",
      "342: Hailar\n",
      "343: Ossora\n",
      "344: Winchester\n",
      "345: Luwuk\n",
      "346: Vermilion\n",
      "347: Verkh-Usugli\n",
      "Missing name data\n",
      "349: Griffith\n",
      "350: Lata\n",
      "351: Nishihara\n",
      "352: Coquimbo\n",
      "353: Grand-Santi\n",
      "354: Salalah\n",
      "Missing name data\n",
      "356: Sibu\n",
      "Missing name data\n",
      "358: Saint Paul Harbor\n",
      "Missing name data\n",
      "360: Hong Kong\n",
      "361: Port Shepstone\n",
      "362: Anadyr\n",
      "363: Tūkrah\n",
      "364: Tambacounda\n",
      "365: Golfito\n",
      "Missing name data\n",
      "367: Galveston\n",
      "368: Kapit\n",
      "369: Baruun-Urt\n",
      "Missing name data\n",
      "371: Mount Gambier\n",
      "372: Beira\n",
      "373: Cabo San Lucas\n",
      "374: Santa Rosa\n",
      "375: Ahipara\n",
      "Missing name data\n",
      "377: Ţalkhā\n",
      "378: Buraidah\n",
      "379: Oranjemund\n",
      "380: Xingyi\n",
      "381: Nioro\n",
      "Missing name data\n",
      "383: Ust'-Omchug\n",
      "384: Marsá Maţrūḩ\n",
      "385: Tiksi\n",
      "386: Warrnambool\n",
      "387: La Providencia\n",
      "388: Kruisfontein\n",
      "389: Dunedin\n",
      "390: Rovaniemi\n",
      "391: Preobrazheniye\n",
      "Missing name data\n",
      "393: Iqaluit\n",
      "394: Acaraú\n",
      "395: Port-Cartier\n",
      "396: Rassvet\n",
      "397: Narsaq\n",
      "398: Portsmouth\n",
      "399: Russell\n",
      "400: Suruç\n",
      "401: Launceston\n",
      "402: Pāsighāt\n",
      "403: Kristinehamn\n",
      "404: Ponta do Sol\n",
      "405: Coahuayana Viejo\n",
      "406: Hranice\n",
      "407: Port-Gentil\n",
      "408: Chabahar\n",
      "409: Skellefteå\n",
      "410: Nuoro\n",
      "411: Voi\n",
      "Missing name data\n",
      "413: Kiama\n",
      "Missing name data\n",
      "415: Mayo\n",
      "416: Bonthe\n",
      "417: Rio Claro\n",
      "418: Yei\n",
      "419: Karatau\n",
      "420: Araguaína\n",
      "421: Cooma\n",
      "422: Hay River\n",
      "423: Bireun\n",
      "424: Atar\n",
      "425: Follebu\n",
      "426: Fuente de Oro\n",
      "427: Makaha\n",
      "Missing name data\n",
      "429: Troitsko-Pechorsk\n",
      "430: Sakakah\n",
      "Missing name data\n",
      "432: Maravilha\n",
      "433: Gopālpur\n",
      "434: Santarém\n",
      "435: Touros\n",
      "436: Aksu\n",
      "437: Tazovsky\n",
      "438: Tabuk\n",
      "439: Vila Velha\n",
      "440: Sayyan\n",
      "441: Banfora\n",
      "442: Puerto Carreño\n",
      "443: Katsuura\n",
      "444: Diego de Almagro\n",
      "445: Cherskiy\n",
      "446: Cidreira\n",
      "447: Auki\n",
      "Missing name data\n",
      "449: Malpe\n",
      "450: Tongren\n",
      "451: Basco\n",
      "452: Comodoro Rivadavia\n",
      "453: Tauá\n",
      "454: Khuzdar\n",
      "455: Ulaangom\n",
      "Missing name data\n",
      "457: Khovd\n",
      "458: Champerico\n",
      "459: Forsytheganj\n",
      "460: Caucayá\n",
      "461: Gobabis\n",
      "462: Marawi\n",
      "463: Te Anau\n",
      "464: Kahului\n",
      "465: Puerto Escondido\n",
      "466: Inuvik\n",
      "467: Rāmjībanpur\n",
      "468: Beringovskiy\n",
      "469: Xining\n",
      "470: Tibiao\n",
      "471: Kindu\n",
      "472: Kununurra\n",
      "473: Le Port\n",
      "474: Diré\n",
      "475: Tilichiki\n",
      "476: Acapulco de Juárez\n",
      "477: Gondanglegi\n",
      "Missing name data\n",
      "479: Huilong\n",
      "480: Brazzaville\n",
      "481: Namatanai\n",
      "482: Esim\n",
      "483: Goderich\n",
      "484: Columbus\n",
      "Missing name data\n",
      "486: Kavaratti\n",
      "487: La Macarena\n",
      "488: Kalmunai\n",
      "489: Neverkino\n",
      "490: Papara\n",
      "491: Opuwo\n",
      "492: Barcelona\n",
      "493: Clonakilty\n",
      "Missing name data\n",
      "495: Farafangana\n",
      "496: Huambo\n",
      "497: Dutlwe\n",
      "498: Cornwall\n",
      "499: Ciudad Bolivar\n",
      "500: Brae\n",
      "501: Qui Nhon\n",
      "502: Nānākuli\n",
      "503: Sorong\n",
      "504: Sosnovka\n",
      "505: Rio Piracicaba\n",
      "506: Pineto\n",
      "507: Aksha\n",
      "508: Colon\n",
      "509: Peruíbe\n",
      "510: Ust'-Ishim\n",
      "511: Salina Cruz\n",
      "512: Weihe\n",
      "513: Manzhouli\n",
      "514: Mlalo\n",
      "515: Qandala\n",
      "516: Antalaha\n",
      "517: Paita\n",
      "518: Balilihan\n",
      "519: Havre-St-Pierre\n",
      "520: Hollins\n",
      "521: Mahon\n",
      "522: Pangnirtung\n",
      "523: Iberia\n",
      "Missing name data\n",
      "525: Leh\n",
      "Missing name data\n",
      "527: Rabo de Peixe\n",
      "528: Toktogul\n",
      "529: Kamiiso\n",
      "530: Ust-Kuyga\n",
      "531: Pevek\n",
      "532: Port Augusta\n",
      "533: Najrān\n",
      "534: Huarmey\n",
      "535: Victor Harbor\n",
      "536: Jizan\n",
      "Missing name data\n",
      "538: Mana\n",
      "539: Juli\n",
      "540: Karpogory\n",
      "541: Ferme-Neuve\n",
      "542: Abu Dhabi\n",
      "543: Artemivka\n",
      "544: Buala\n",
      "545: Redmond\n",
      "546: Mondolfo\n",
      "547: Alugan\n",
      "548: Atherton\n",
      "Missing name data\n",
      "550: Sydney\n",
      "551: Lubango\n",
      "552: Teahupoo\n",
      "553: Srandakan\n",
      "554: The Pas\n",
      "555: Gualeguay\n",
      "556: Dickinson\n",
      "557: San Policarpo\n",
      "558: Adrar\n",
      "Missing name data\n",
      "560: Tautira\n",
      "Missing name data\n",
      "562: Samfya\n",
      "563: Sambava\n",
      "564: Nhulunbuy\n",
      "565: Portland\n",
      "566: Afuá\n",
      "567: Qujing\n",
      "568: Mahon\n",
      "569: Qaqortoq\n",
      "570: Constitución\n",
      "571: Mackenzie\n",
      "572: Filingué\n",
      "573: Bosansko Grahovo\n",
      "574: Hermon\n",
      "575: Urla\n",
      "576: Lac du Bonnet\n",
      "577: São Francisco\n",
      "578: Okhotsk\n",
      "579: Hamilton\n",
      "580: Vanse\n",
      "581: Ves'yegonsk\n",
      "582: Sorata\n",
      "583: Pueblo Bello\n",
      "584: Bubaque\n",
      "Missing name data\n",
      "586: Djambala\n",
      "587: Tam Ky\n",
      "588: Nantucket\n",
      "Missing name data\n",
      "590: Beloha\n",
      "591: Palaia Fokaia\n",
      "Missing name data\n",
      "593: São José da Coroa Grande\n",
      "594: Pemba\n",
      "595: Saint-Augustin\n",
      "596: Carlsbad\n",
      "597: Kanniyākumāri\n",
      "598: Lubao\n",
      "599: Estelí\n",
      "Missing name data\n",
      "601: Eldorado\n",
      "602: Nur-Sultan\n",
      "603: Shyryayeve\n",
      "604: Salinópolis\n",
      "605: Aksay\n",
      "606: Zhuanghe\n",
      "607: Visby\n",
      "608: Jesús Carranza\n",
      "609: Razdolinsk\n",
      "610: Puri\n",
      "611: Puerto Cabezas\n",
      "612: Winnemucca\n",
      "613: Port Macquarie\n",
      "614: Aguié\n",
      "Missing name data\n",
      "616: Korla\n",
      "617: Mount Isa\n",
      "618: Longyan\n",
      "619: Kitimat\n",
      "620: Iquique\n",
      "Missing name data\n",
      "622: Ryōtsu-minato\n",
      "623: Souillac\n",
      "Missing name data\n",
      "625: Djibouti\n"
     ]
    }
   ],
   "source": [
    "url = \"http://api.openweathermap.org/data/2.5/weather?\"\n",
    "number= 0\n",
    "\n",
    "name=[]\n",
    "lat=[]\n",
    "lon=[]\n",
    "temp=[]\n",
    "max_temp=[]\n",
    "wind_spd=[]\n",
    "clouds=[]\n",
    "humidity=[]\n",
    "\n",
    "for city in cities:\n",
    "    query_url = url + \"appid=\" + weather_api_key + \"&units=imperial&q=\" + city\n",
    "\n",
    "    weather_response = requests.get(query_url)\n",
    "    weather_json = weather_response.json()\n",
    "    \n",
    "    number=number+1\n",
    "\n",
    "    try:\n",
    "        print(f\"{number}: {weather_json['name']}\")\n",
    "        name.append(weather_json['name'])\n",
    "        lat.append(weather_json['coord']['lat'])\n",
    "        lon.append(weather_json['coord']['lon'])\n",
    "        temp.append(weather_json['main']['temp'])\n",
    "        max_temp.append(weather_json['main']['temp_max'])\n",
    "        wind_spd.append(weather_json['wind']['speed'])\n",
    "        clouds.append(weather_json['clouds']['all'])\n",
    "        humidity.append(weather_json['main']['humidity'])\n",
    "        \n",
    "    except:\n",
    "        print(\"Missing name data\")\n",
    "        name.append(\"Missing data\")\n",
    "        lat.append(\"Missing data\")\n",
    "        lon.append(\"Missing data\")\n",
    "        temp.append(\"Missing data\")\n",
    "        max_temp.append(\"Missing data\")\n",
    "        wind_spd.append(\"Missing data\")\n",
    "        clouds.append(\"Missing data\")\n",
    "        humidity.append(\"Missing data\")"
   ]
  },
  {
   "cell_type": "markdown",
   "metadata": {},
   "source": [
    "### Convert Raw Data to DataFrame\n",
    "* Export the city data into a .csv.\n"
   ]
  },
  {
   "cell_type": "code",
   "execution_count": 11,
   "metadata": {},
   "outputs": [
    {
     "data": {
      "text/html": [
       "<div>\n",
       "<style scoped>\n",
       "    .dataframe tbody tr th:only-of-type {\n",
       "        vertical-align: middle;\n",
       "    }\n",
       "\n",
       "    .dataframe tbody tr th {\n",
       "        vertical-align: top;\n",
       "    }\n",
       "\n",
       "    .dataframe thead th {\n",
       "        text-align: right;\n",
       "    }\n",
       "</style>\n",
       "<table border=\"1\" class=\"dataframe\">\n",
       "  <thead>\n",
       "    <tr style=\"text-align: right;\">\n",
       "      <th></th>\n",
       "      <th>city</th>\n",
       "      <th>latitude</th>\n",
       "      <th>longitude</th>\n",
       "      <th>temperature</th>\n",
       "      <th>max temperature</th>\n",
       "      <th>wind speed</th>\n",
       "      <th>cloudiness</th>\n",
       "      <th>humidity</th>\n",
       "    </tr>\n",
       "  </thead>\n",
       "  <tbody>\n",
       "    <tr>\n",
       "      <th>0</th>\n",
       "      <td>Arraial do Cabo</td>\n",
       "      <td>-22.9661</td>\n",
       "      <td>-42.0278</td>\n",
       "      <td>76.86</td>\n",
       "      <td>80.56</td>\n",
       "      <td>19.57</td>\n",
       "      <td>0</td>\n",
       "      <td>73</td>\n",
       "    </tr>\n",
       "    <tr>\n",
       "      <th>1</th>\n",
       "      <td>Matara</td>\n",
       "      <td>5.9485</td>\n",
       "      <td>80.5353</td>\n",
       "      <td>78.64</td>\n",
       "      <td>78.64</td>\n",
       "      <td>8.08</td>\n",
       "      <td>11</td>\n",
       "      <td>81</td>\n",
       "    </tr>\n",
       "    <tr>\n",
       "      <th>2</th>\n",
       "      <td>Prainha</td>\n",
       "      <td>-1.8</td>\n",
       "      <td>-53.48</td>\n",
       "      <td>88.61</td>\n",
       "      <td>88.61</td>\n",
       "      <td>2.68</td>\n",
       "      <td>57</td>\n",
       "      <td>54</td>\n",
       "    </tr>\n",
       "    <tr>\n",
       "      <th>3</th>\n",
       "      <td>Punta Arenas</td>\n",
       "      <td>-53.15</td>\n",
       "      <td>-70.9167</td>\n",
       "      <td>33.91</td>\n",
       "      <td>39.22</td>\n",
       "      <td>37.98</td>\n",
       "      <td>90</td>\n",
       "      <td>93</td>\n",
       "    </tr>\n",
       "    <tr>\n",
       "      <th>4</th>\n",
       "      <td>Yaan</td>\n",
       "      <td>7.3833</td>\n",
       "      <td>8.5667</td>\n",
       "      <td>75.36</td>\n",
       "      <td>75.36</td>\n",
       "      <td>3.36</td>\n",
       "      <td>95</td>\n",
       "      <td>83</td>\n",
       "    </tr>\n",
       "  </tbody>\n",
       "</table>\n",
       "</div>"
      ],
      "text/plain": [
       "              city latitude longitude temperature max temperature wind speed  \\\n",
       "0  Arraial do Cabo -22.9661  -42.0278       76.86           80.56      19.57   \n",
       "1           Matara   5.9485   80.5353       78.64           78.64       8.08   \n",
       "2          Prainha     -1.8    -53.48       88.61           88.61       2.68   \n",
       "3     Punta Arenas   -53.15  -70.9167       33.91           39.22      37.98   \n",
       "4             Yaan   7.3833    8.5667       75.36           75.36       3.36   \n",
       "\n",
       "  cloudiness humidity  \n",
       "0          0       73  \n",
       "1         11       81  \n",
       "2         57       54  \n",
       "3         90       93  \n",
       "4         95       83  "
      ]
     },
     "execution_count": 11,
     "metadata": {},
     "output_type": "execute_result"
    }
   ],
   "source": [
    "city_data = {\n",
    "    'city': name,\n",
    "    'latitude':lat,\n",
    "    'longitude':lon,\n",
    "    'temperature':temp,\n",
    "    'max temperature':max_temp,\n",
    "    'wind speed':wind_spd,\n",
    "    'cloudiness':clouds,\n",
    "    'humidity':humidity\n",
    "}\n",
    "\n",
    "original_city_df = pd.DataFrame(city_data)\n",
    "original_city_df.head()"
   ]
  },
  {
   "cell_type": "code",
   "execution_count": 12,
   "metadata": {},
   "outputs": [
    {
     "data": {
      "text/plain": [
       "city               572\n",
       "latitude           572\n",
       "longitude          572\n",
       "temperature        572\n",
       "max temperature    572\n",
       "wind speed         572\n",
       "cloudiness         572\n",
       "humidity           572\n",
       "dtype: int64"
      ]
     },
     "execution_count": 12,
     "metadata": {},
     "output_type": "execute_result"
    }
   ],
   "source": [
    "city_df = original_city_df.loc[original_city_df['latitude'] != 'Missing data']\n",
    "city_df.count()"
   ]
  },
  {
   "cell_type": "code",
   "execution_count": 13,
   "metadata": {},
   "outputs": [],
   "source": [
    "city_df.to_csv('output_data/cities.csv')"
   ]
  },
  {
   "cell_type": "markdown",
   "metadata": {},
   "source": [
    "## Inspect the data and remove the cities where the humidity > 100%.\n",
    "----"
   ]
  },
  {
   "cell_type": "code",
   "execution_count": 14,
   "metadata": {},
   "outputs": [
    {
     "data": {
      "text/plain": [
       "city               0\n",
       "latitude           0\n",
       "longitude          0\n",
       "temperature        0\n",
       "max temperature    0\n",
       "wind speed         0\n",
       "cloudiness         0\n",
       "humidity           0\n",
       "dtype: int64"
      ]
     },
     "execution_count": 14,
     "metadata": {},
     "output_type": "execute_result"
    }
   ],
   "source": [
    "humid = city_df.loc[city_df['humidity'] > 100]\n",
    "humid.count()"
   ]
  },
  {
   "cell_type": "markdown",
   "metadata": {},
   "source": [
    "## Plotting the Data\n"
   ]
  },
  {
   "cell_type": "markdown",
   "metadata": {},
   "source": [
    "### Latitude vs. Temperature Plot"
   ]
  },
  {
   "cell_type": "code",
   "execution_count": 15,
   "metadata": {
    "scrolled": true
   },
   "outputs": [],
   "source": [
    "city_lat = city_df['latitude']\n",
    "city_temp = city_df['temperature']\n",
    "city_humidity = city_df['humidity']\n",
    "city_cloud = city_df['cloudiness']\n",
    "city_wind =city_df['wind speed']"
   ]
  },
  {
   "cell_type": "code",
   "execution_count": 16,
   "metadata": {},
   "outputs": [
    {
     "data": {
      "image/png": "[encoded data removed]",
      "text/plain": [
       "<Figure size 432x288 with 1 Axes>"
      ]
     },
     "metadata": {
      "needs_background": "light"
     },
     "output_type": "display_data"
    }
   ],
   "source": [
    "plt.scatter(city_lat,city_temp)\n",
    "\n",
    "plt.title(\"City Latitude vs Temperature\")\n",
    "plt.ylabel(\"Temperature\")\n",
    "plt.xlabel(\"Latitude\")\n",
    "\n",
    "plt.savefig(\"lat-temp.png\")\n",
    "plt.show()"
   ]
  },
  {
   "cell_type": "markdown",
   "metadata": {},
   "source": [
    "As you would expect, the cities closer to the equator have higher temperatures. It is interesting that those closer to the North Pole have lower temperatures than those closer to the South Pole. That could be due to fewer cities selected in the Southern Hemisphere, though."
   ]
  },
  {
   "cell_type": "markdown",
   "metadata": {},
   "source": [
    "### Latitude vs. Humidity Plot"
   ]
  },
  {
   "cell_type": "code",
   "execution_count": 17,
   "metadata": {},
   "outputs": [
    {
     "data": {
      "image/png": "[encoded data removed]",
      "text/plain": [
       "<Figure size 432x288 with 1 Axes>"
      ]
     },
     "metadata": {
      "needs_background": "light"
     },
     "output_type": "display_data"
    }
   ],
   "source": [
    "plt.scatter(city_lat,city_humidity)\n",
    "\n",
    "plt.title(\"City Latitude vs Humidity\")\n",
    "plt.ylabel(\"Humidity\")\n",
    "plt.xlabel(\"Latitude\")\n",
    "\n",
    "plt.savefig(\"lat-hum.png\")\n",
    "plt.show()"
   ]
  },
  {
   "cell_type": "markdown",
   "metadata": {},
   "source": [
    "There doesn't seem to be much correlation between humidity and latitude. This isn't too surprising as there are rain-heavy/very-humid regions all over the globe, just like there are deserts scattered around. "
   ]
  },
  {
   "cell_type": "markdown",
   "metadata": {},
   "source": [
    "### Latitude vs. Cloudiness Plot"
   ]
  },
  {
   "cell_type": "code",
   "execution_count": 18,
   "metadata": {},
   "outputs": [
    {
     "data": {
      "image/png": "[encoded data removed]",
      "text/plain": [
       "<Figure size 432x288 with 1 Axes>"
      ]
     },
     "metadata": {
      "needs_background": "light"
     },
     "output_type": "display_data"
    }
   ],
   "source": [
    "plt.scatter(city_lat,city_cloud)\n",
    "\n",
    "plt.title(\"City Latitude vs Cloudiness\")\n",
    "plt.ylabel(\"Cloudiness\")\n",
    "plt.xlabel(\"Latitude\")\n",
    "\n",
    "plt.savefig(\"lat-cloud.png\")\n",
    "plt.show()"
   ]
  },
  {
   "cell_type": "markdown",
   "metadata": {},
   "source": [
    "Much like humidity, there isn't much correlation between cloudiness and latitude. I am curious about the straight lines of points that appeared. My guess would be something in how the cloudiness is calculated that results in the multiple cities having the same exact measurement."
   ]
  },
  {
   "cell_type": "markdown",
   "metadata": {},
   "source": [
    "### Latitude vs. Wind Speed Plot"
   ]
  },
  {
   "cell_type": "code",
   "execution_count": 19,
   "metadata": {},
   "outputs": [
    {
     "data": {
      "image/png": "[encoded data removed]",
      "text/plain": [
       "<Figure size 432x288 with 1 Axes>"
      ]
     },
     "metadata": {
      "needs_background": "light"
     },
     "output_type": "display_data"
    }
   ],
   "source": [
    "plt.scatter(city_lat,city_wind)\n",
    "\n",
    "plt.title(\"City Latitude vs Wind Speed\")\n",
    "plt.ylabel(\"Wind Speed (mph)\")\n",
    "plt.xlabel(\"Latitude\")\n",
    "\n",
    "plt.savefig(\"lat-wind.png\")\n",
    "plt.show()"
   ]
  },
  {
   "cell_type": "markdown",
   "metadata": {},
   "source": [
    "Not much correlation between the two factors here, either, though it does show that most of the cities selected tend to not have very high wind-speeds."
   ]
  },
  {
   "cell_type": "markdown",
   "metadata": {},
   "source": [
    "### Linear Regression"
   ]
  },
  {
   "cell_type": "code",
   "execution_count": 20,
   "metadata": {},
   "outputs": [
    {
     "name": "stderr",
     "output_type": "stream",
     "text": [
      "<ipython-input-20-9e2c01d31959>:3: SettingWithCopyWarning: \n",
      "A value is trying to be set on a copy of a slice from a DataFrame.\n",
      "Try using .loc[row_indexer,col_indexer] = value instead\n",
      "\n",
      "See the caveats in the documentation: https://pandas.pydata.org/pandas-docs/stable/user_guide/indexing.html#returning-a-view-versus-a-copy\n",
      "  city_df['latitude']=city_df['latitude'].astype(float)\n",
      "<ipython-input-20-9e2c01d31959>:4: SettingWithCopyWarning: \n",
      "A value is trying to be set on a copy of a slice from a DataFrame.\n",
      "Try using .loc[row_indexer,col_indexer] = value instead\n",
      "\n",
      "See the caveats in the documentation: https://pandas.pydata.org/pandas-docs/stable/user_guide/indexing.html#returning-a-view-versus-a-copy\n",
      "  city_df['longitude']=city_df['longitude'].astype(float)\n",
      "<ipython-input-20-9e2c01d31959>:5: SettingWithCopyWarning: \n",
      "A value is trying to be set on a copy of a slice from a DataFrame.\n",
      "Try using .loc[row_indexer,col_indexer] = value instead\n",
      "\n",
      "See the caveats in the documentation: https://pandas.pydata.org/pandas-docs/stable/user_guide/indexing.html#returning-a-view-versus-a-copy\n",
      "  city_df['temperature']=city_df['temperature'].astype(float)\n",
      "<ipython-input-20-9e2c01d31959>:6: SettingWithCopyWarning: \n",
      "A value is trying to be set on a copy of a slice from a DataFrame.\n",
      "Try using .loc[row_indexer,col_indexer] = value instead\n",
      "\n",
      "See the caveats in the documentation: https://pandas.pydata.org/pandas-docs/stable/user_guide/indexing.html#returning-a-view-versus-a-copy\n",
      "  city_df['max temperature']=city_df['max temperature'].astype(float)\n",
      "<ipython-input-20-9e2c01d31959>:7: SettingWithCopyWarning: \n",
      "A value is trying to be set on a copy of a slice from a DataFrame.\n",
      "Try using .loc[row_indexer,col_indexer] = value instead\n",
      "\n",
      "See the caveats in the documentation: https://pandas.pydata.org/pandas-docs/stable/user_guide/indexing.html#returning-a-view-versus-a-copy\n",
      "  city_df['wind speed']=city_df['wind speed'].astype(float)\n",
      "<ipython-input-20-9e2c01d31959>:8: SettingWithCopyWarning: \n",
      "A value is trying to be set on a copy of a slice from a DataFrame.\n",
      "Try using .loc[row_indexer,col_indexer] = value instead\n",
      "\n",
      "See the caveats in the documentation: https://pandas.pydata.org/pandas-docs/stable/user_guide/indexing.html#returning-a-view-versus-a-copy\n",
      "  city_df['cloudiness']=city_df['cloudiness'].astype(float)\n",
      "<ipython-input-20-9e2c01d31959>:9: SettingWithCopyWarning: \n",
      "A value is trying to be set on a copy of a slice from a DataFrame.\n",
      "Try using .loc[row_indexer,col_indexer] = value instead\n",
      "\n",
      "See the caveats in the documentation: https://pandas.pydata.org/pandas-docs/stable/user_guide/indexing.html#returning-a-view-versus-a-copy\n",
      "  city_df['humidity']=city_df['humidity'].astype(float)\n"
     ]
    },
    {
     "data": {
      "text/plain": [
       "city                object\n",
       "latitude           float64\n",
       "longitude          float64\n",
       "temperature        float64\n",
       "max temperature    float64\n",
       "wind speed         float64\n",
       "cloudiness         float64\n",
       "humidity           float64\n",
       "dtype: object"
      ]
     },
     "execution_count": 20,
     "metadata": {},
     "output_type": "execute_result"
    }
   ],
   "source": [
    "#Ran into error that regression model couldn't use the type the fields were set to, need to change to float\n",
    "\n",
    "city_df['latitude']=city_df['latitude'].astype(float)\n",
    "city_df['longitude']=city_df['longitude'].astype(float)\n",
    "city_df['temperature']=city_df['temperature'].astype(float)\n",
    "city_df['max temperature']=city_df['max temperature'].astype(float)\n",
    "city_df['wind speed']=city_df['wind speed'].astype(float)\n",
    "city_df['cloudiness']=city_df['cloudiness'].astype(float)\n",
    "city_df['humidity']=city_df['humidity'].astype(float)\n",
    "\n",
    "city_df.dtypes\n",
    "\n"
   ]
  },
  {
   "cell_type": "code",
   "execution_count": 21,
   "metadata": {},
   "outputs": [],
   "source": [
    "north = city_df.loc[city_df['latitude'] >= 0]\n",
    "south = city_df.loc[city_df['latitude'] < 0]\n",
    "\n",
    "north_lat = north['latitude']\n",
    "north_temp = north['max temperature']\n",
    "north_hum = north['humidity']\n",
    "north_wind = north['wind speed']\n",
    "north_cloud =north['cloudiness']\n",
    "\n",
    "south_lat = south['latitude']\n",
    "south_temp = south['max temperature']\n",
    "south_hum = south['humidity']\n",
    "south_wind = south['wind speed']\n",
    "south_cloud =south['cloudiness']"
   ]
  },
  {
   "cell_type": "markdown",
   "metadata": {},
   "source": [
    "#### Northern Hemisphere - Max Temp vs. Latitude Linear Regression"
   ]
  },
  {
   "cell_type": "code",
   "execution_count": 22,
   "metadata": {},
   "outputs": [
    {
     "name": "stdout",
     "output_type": "stream",
     "text": [
      "The r-value is: 0.7786890748747989\n"
     ]
    },
    {
     "data": {
      "image/png": "[encoded data removed]",
      "text/plain": [
       "<Figure size 432x288 with 1 Axes>"
      ]
     },
     "metadata": {
      "needs_background": "light"
     },
     "output_type": "display_data"
    }
   ],
   "source": [
    "(slope, intercept, rvalue, pvalue, stderr) = linregress(north_lat, north_temp)\n",
    "regress_values = north_lat * slope + intercept\n",
    "line_eq = \"y = \" + str(round(slope,2)) + \"x +\" + str(round(intercept,2))\n",
    "\n",
    "plt.scatter(north_lat, north_temp)\n",
    "plt.plot(north_lat,regress_values,\"r-\")\n",
    "\n",
    "plt.xlabel('Latitude')\n",
    "plt.ylabel('Max Temperature')\n",
    "plt.annotate(line_eq,(10,15),fontsize=15,color=\"red\")\n",
    "\n",
    "print(f\"The r-value is: {rvalue**2}\")\n",
    "plt.savefig(\"../north_temp-lat.png\")\n",
    "plt.show()"
   ]
  },
  {
   "cell_type": "markdown",
   "metadata": {},
   "source": [
    "####  Southern Hemisphere - Max Temp vs. Latitude Linear Regression"
   ]
  },
  {
   "cell_type": "code",
   "execution_count": 23,
   "metadata": {},
   "outputs": [
    {
     "name": "stdout",
     "output_type": "stream",
     "text": [
      "The r-value is: 0.6237195500583886\n"
     ]
    },
    {
     "data": {
      "image/png": "[encoded data removed]",
      "text/plain": [
       "<Figure size 432x288 with 1 Axes>"
      ]
     },
     "metadata": {
      "needs_background": "light"
     },
     "output_type": "display_data"
    }
   ],
   "source": [
    "(slope, intercept, rvalue, pvalue, stderr) = linregress(south_lat, south_temp)\n",
    "regress_values = south_lat * slope + intercept\n",
    "line_eq = \"y = \" + str(round(slope,2)) + \"x +\" + str(round(intercept,2))\n",
    "\n",
    "plt.scatter(south_lat, south_temp)\n",
    "plt.plot(south_lat,regress_values,\"r-\")\n",
    "\n",
    "plt.xlabel('Latitude')\n",
    "plt.ylabel('Max Temperature')\n",
    "plt.annotate(line_eq,(-50,90),fontsize=15,color=\"red\")\n",
    "\n",
    "print(f\"The r-value is: {rvalue**2}\")\n",
    "plt.savefig(\"../south_temp-lat.png\")\n",
    "plt.show()"
   ]
  },
  {
   "cell_type": "markdown",
   "metadata": {},
   "source": [
    "The regression here is showing a high correlation between latitude and temperature, namely that the closer to the equator that you get, the higher the temperature. The correlation is, oddly, stronger in the northern hemisphere than the southern (0.73 vs 0.6 r-value)."
   ]
  },
  {
   "cell_type": "markdown",
   "metadata": {},
   "source": [
    "####  Northern Hemisphere - Humidity (%) vs. Latitude Linear Regression"
   ]
  },
  {
   "cell_type": "code",
   "execution_count": 24,
   "metadata": {},
   "outputs": [
    {
     "name": "stdout",
     "output_type": "stream",
     "text": [
      "The r-value is: 0.08333618093944194\n"
     ]
    },
    {
     "data": {
      "image/png": "[encoded data removed]",
      "text/plain": [
       "<Figure size 432x288 with 1 Axes>"
      ]
     },
     "metadata": {
      "needs_background": "light"
     },
     "output_type": "display_data"
    }
   ],
   "source": [
    "(slope, intercept, rvalue, pvalue, stderr) = linregress(north_lat, north_hum)\n",
    "regress_values = north_lat * slope + intercept\n",
    "line_eq = \"y = \" + str(round(slope,2)) + \"x +\" + str(round(intercept,2))\n",
    "\n",
    "plt.scatter(north_lat, north_hum)\n",
    "plt.plot(north_lat,regress_values,\"r-\")\n",
    "\n",
    "plt.xlabel('Latitude')\n",
    "plt.ylabel('Humidity (%)')\n",
    "plt.annotate(line_eq,(45,15),fontsize=15,color=\"red\")\n",
    "\n",
    "print(f\"The r-value is: {rvalue**2}\")\n",
    "plt.savefig(\"../north_lat-hum.png\")\n",
    "plt.show()"
   ]
  },
  {
   "cell_type": "markdown",
   "metadata": {},
   "source": [
    "####  Southern Hemisphere - Humidity (%) vs. Latitude Linear Regression"
   ]
  },
  {
   "cell_type": "code",
   "execution_count": 25,
   "metadata": {},
   "outputs": [
    {
     "name": "stdout",
     "output_type": "stream",
     "text": [
      "The r-value is: 0.010175281297826936\n"
     ]
    },
    {
     "data": {
      "image/png": "[encoded data removed]",
      "text/plain": [
       "<Figure size 432x288 with 1 Axes>"
      ]
     },
     "metadata": {
      "needs_background": "light"
     },
     "output_type": "display_data"
    }
   ],
   "source": [
    "(slope, intercept, rvalue, pvalue, stderr) = linregress(south_lat, south_hum)\n",
    "regress_values = south_lat * slope + intercept\n",
    "line_eq = \"y = \" + str(round(slope,2)) + \"x +\" + str(round(intercept,2))\n",
    "\n",
    "plt.scatter(south_lat, south_hum)\n",
    "plt.plot(south_lat,regress_values,\"r-\")\n",
    "\n",
    "plt.xlabel('Latitude')\n",
    "plt.ylabel('Humidity (%)')\n",
    "plt.annotate(line_eq,(10,15),fontsize=15,color=\"red\")\n",
    "\n",
    "print(f\"The r-value is: {rvalue**2}\")\n",
    "plt.savefig(\"../south_hum-lat.png\")\n",
    "plt.show()"
   ]
  },
  {
   "cell_type": "markdown",
   "metadata": {},
   "source": [
    "The regression model for humidity shows that there is essentially no correlation between humidity and latitude. "
   ]
  },
  {
   "cell_type": "markdown",
   "metadata": {},
   "source": [
    "####  Northern Hemisphere - Cloudiness (%) vs. Latitude Linear Regression"
   ]
  },
  {
   "cell_type": "code",
   "execution_count": 26,
   "metadata": {},
   "outputs": [
    {
     "name": "stdout",
     "output_type": "stream",
     "text": [
      "The r-value is: 0.03111228663020767\n"
     ]
    },
    {
     "data": {
      "image/png": "[encoded data removed]",
      "text/plain": [
       "<Figure size 432x288 with 1 Axes>"
      ]
     },
     "metadata": {
      "needs_background": "light"
     },
     "output_type": "display_data"
    }
   ],
   "source": [
    "(slope, intercept, rvalue, pvalue, stderr) = linregress(north_lat, north_cloud)\n",
    "regress_values = north_lat * slope + intercept\n",
    "line_eq = \"y = \" + str(round(slope,2)) + \"x +\" + str(round(intercept,2))\n",
    "\n",
    "plt.scatter(north_lat, north_cloud)\n",
    "plt.plot(north_lat,regress_values,\"r-\")\n",
    "\n",
    "plt.xlabel('Latitude')\n",
    "plt.ylabel('Cloudiness (%)')\n",
    "plt.annotate(line_eq,(45,30),fontsize=15,color=\"red\")\n",
    "\n",
    "print(f\"The r-value is: {rvalue**2}\")\n",
    "plt.savefig(\"../north_lat-cloud.png\")\n",
    "plt.show()"
   ]
  },
  {
   "cell_type": "markdown",
   "metadata": {},
   "source": [
    "####  Southern Hemisphere - Cloudiness (%) vs. Latitude Linear Regression"
   ]
  },
  {
   "cell_type": "code",
   "execution_count": 27,
   "metadata": {},
   "outputs": [
    {
     "name": "stdout",
     "output_type": "stream",
     "text": [
      "The r-value is: 0.020433025968186826\n"
     ]
    },
    {
     "data": {
      "image/png": "[encoded data removed]",
      "text/plain": [
       "<Figure size 432x288 with 1 Axes>"
      ]
     },
     "metadata": {
      "needs_background": "light"
     },
     "output_type": "display_data"
    }
   ],
   "source": [
    "(slope, intercept, rvalue, pvalue, stderr) = linregress(south_lat, south_cloud)\n",
    "regress_values = south_lat * slope + intercept\n",
    "line_eq = \"y = \" + str(round(slope,2)) + \"x +\" + str(round(intercept,2))\n",
    "\n",
    "plt.scatter(south_lat, south_cloud)\n",
    "plt.plot(south_lat,regress_values,\"r-\")\n",
    "\n",
    "plt.xlabel('Latitude')\n",
    "plt.ylabel('Cloudiness (%)')\n",
    "plt.annotate(line_eq,(-55,20),fontsize=15,color=\"red\")\n",
    "\n",
    "print(f\"The r-value is: {rvalue**2}\")\n",
    "plt.savefig(\"../south_lat-cloud.png\")\n",
    "plt.show()"
   ]
  },
  {
   "cell_type": "markdown",
   "metadata": {},
   "source": [
    "There is minimal correlation between latitude and cloudiness. "
   ]
  },
  {
   "cell_type": "markdown",
   "metadata": {},
   "source": [
    "####  Northern Hemisphere - Wind Speed (mph) vs. Latitude Linear Regression"
   ]
  },
  {
   "cell_type": "code",
   "execution_count": 28,
   "metadata": {},
   "outputs": [
    {
     "name": "stdout",
     "output_type": "stream",
     "text": [
      "The r-value is: 0.010547952478279879\n"
     ]
    },
    {
     "data": {
      "image/png": "[encoded data removed]",
      "text/plain": [
       "<Figure size 432x288 with 1 Axes>"
      ]
     },
     "metadata": {
      "needs_background": "light"
     },
     "output_type": "display_data"
    }
   ],
   "source": [
    "(slope, intercept, rvalue, pvalue, stderr) = linregress(north_lat, north_wind)\n",
    "regress_values = north_lat * slope + intercept\n",
    "line_eq = \"y = \" + str(round(slope,2)) + \"x +\" + str(round(intercept,2))\n",
    "\n",
    "plt.scatter(north_lat, north_wind)\n",
    "plt.plot(north_lat,regress_values,\"r-\")\n",
    "\n",
    "plt.xlabel('Latitude')\n",
    "plt.ylabel('Wind Speed (mph)')\n",
    "plt.annotate(line_eq,(30,30),fontsize=15,color=\"red\")\n",
    "\n",
    "print(f\"The r-value is: {rvalue**2}\")\n",
    "plt.savefig(\"../north_lat-wind.png\")\n",
    "plt.show()"
   ]
  },
  {
   "cell_type": "markdown",
   "metadata": {},
   "source": [
    "####  Southern Hemisphere - Wind Speed (mph) vs. Latitude Linear Regression"
   ]
  },
  {
   "cell_type": "code",
   "execution_count": 29,
   "metadata": {},
   "outputs": [
    {
     "name": "stdout",
     "output_type": "stream",
     "text": [
      "The r-value is: 0.06948286907498673\n"
     ]
    },
    {
     "data": {
      "image/png": "[encoded data removed]",
      "text/plain": [
       "<Figure size 432x288 with 1 Axes>"
      ]
     },
     "metadata": {
      "needs_background": "light"
     },
     "output_type": "display_data"
    }
   ],
   "source": [
    "(slope, intercept, rvalue, pvalue, stderr) = linregress(south_lat, south_wind)\n",
    "regress_values = south_lat * slope + intercept\n",
    "line_eq = \"y = \" + str(round(slope,2)) + \"x +\" + str(round(intercept,2))\n",
    "\n",
    "plt.scatter(south_lat, south_wind)\n",
    "plt.plot(south_lat,regress_values,\"r-\")\n",
    "\n",
    "plt.xlabel('Latitude')\n",
    "plt.ylabel('Wind Speed (mph)')\n",
    "plt.annotate(line_eq,(-40,35),fontsize=15,color=\"red\")\n",
    "\n",
    "print(f\"The r-value is: {rvalue**2}\")\n",
    "plt.savefig(\"../south_lat-wind.png\")\n",
    "plt.show()"
   ]
  },
  {
   "cell_type": "markdown",
   "metadata": {},
   "source": [
    "The correlation between wind speed and latitude is very similar for both the northern and southern hemispheres. Unfortunately, there is still no strong correlation between these two factors"
   ]
  },
  {
   "cell_type": "code",
   "execution_count": null,
   "metadata": {},
   "outputs": [],
   "source": []
  }
 ],
 "metadata": {
  "anaconda-cloud": {},
  "kernel_info": {
   "name": "python3"
  },
  "kernelspec": {
   "display_name": "Python 3",
   "language": "python",
   "name": "python3"
  },
  "language_info": {
   "codemirror_mode": {
    "name": "ipython",
    "version": 3
   },
   "file_extension": ".py",
   "mimetype": "text/x-python",
   "name": "python",
   "nbconvert_exporter": "python",
   "pygments_lexer": "ipython3",
   "version": "3.8.5"
  },
  "latex_envs": {
   "LaTeX_envs_menu_present": true,
   "autoclose": false,
   "autocomplete": true,
   "bibliofile": "biblio.bib",
   "cite_by": "apalike",
   "current_citInitial": 1,
   "eqLabelWithNumbers": true,
   "eqNumInitial": 1,
   "hotkeys": {
    "equation": "Ctrl-E",
    "itemize": "Ctrl-I"
   },
   "labels_anchors": false,
   "latex_user_defs": false,
   "report_style_numbering": false,
   "user_envs_cfg": false
  },
  "nteract": {
   "version": "0.12.3"
  }
 },
 "nbformat": 4,
 "nbformat_minor": 2
}
