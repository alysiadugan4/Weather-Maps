{
 "cells": [
  {
   "cell_type": "markdown",
   "metadata": {},
   "source": [
    "# WeatherPy\n",
    "----\n",
    "\n",
    "#### Note\n",
    "* Instructions have been included for each segment. You do not have to follow them exactly, but they are included to help you think through the steps."
   ]
  },
  {
   "cell_type": "code",
   "execution_count": 18,
   "metadata": {
    "scrolled": true
   },
   "outputs": [],
   "source": [
    "# Dependencies and Setup\n",
    "import matplotlib.pyplot as plt\n",
    "import pandas as pd\n",
    "import numpy as np\n",
    "import requests\n",
    "import time\n",
    "from scipy.stats import linregress\n",
    "\n",
    "# Import API key\n",
    "from api_keys import weather_api_key\n",
    "\n",
    "# Incorporated citipy to determine city based on latitude and longitude\n",
    "from citipy import citipy\n",
    "\n",
    "# Output File (CSV)\n",
    "output_data_file = \"cities.csv\"\n",
    "\n",
    "# Range of latitudes and longitudes\n",
    "lat_range = (-90, 90)\n",
    "lng_range = (-180, 180)"
   ]
  },
  {
   "cell_type": "markdown",
   "metadata": {},
   "source": [
    "## Generate Cities List"
   ]
  },
  {
   "cell_type": "code",
   "execution_count": 3,
   "metadata": {},
   "outputs": [
    {
     "data": {
      "text/plain": [
       "602"
      ]
     },
     "execution_count": 3,
     "metadata": {},
     "output_type": "execute_result"
    }
   ],
   "source": [
    "# List for holding lat_lngs and cities\n",
    "lat_lngs = []\n",
    "cities = []\n",
    "\n",
    "# Create a set of random lat and lng combinations\n",
    "lats = np.random.uniform(lat_range[0], lat_range[1], size=1500)\n",
    "lngs = np.random.uniform(lng_range[0], lng_range[1], size=1500)\n",
    "lat_lngs = zip(lats, lngs)\n",
    "\n",
    "# Identify nearest city for each lat, lng combination\n",
    "for lat_lng in lat_lngs:\n",
    "    city = citipy.nearest_city(lat_lng[0], lat_lng[1]).city_name\n",
    "    \n",
    "    # If the city is unique, then add it to a our cities list\n",
    "    if city not in cities:\n",
    "        cities.append(city)\n",
    "\n",
    "# Print the city count to confirm sufficient count\n",
    "len(cities)"
   ]
  },
  {
   "cell_type": "markdown",
   "metadata": {},
   "source": [
    "### Perform API Calls\n",
    "* Perform a weather check on each city using a series of successive API calls.\n",
    "* Include a print log of each city as it'sbeing processed (with the city number and city name).\n"
   ]
  },
  {
   "cell_type": "code",
   "execution_count": 4,
   "metadata": {
    "scrolled": true
   },
   "outputs": [
    {
     "name": "stdout",
     "output_type": "stream",
     "text": [
      "1: Ketchikan\n",
      "2: Cape Town\n",
      "Missing name data\n",
      "4: Makkah al Mukarramah\n",
      "5: Port Alfred\n",
      "6: Souillac\n",
      "7: Hithadhoo\n",
      "8: Busselton\n",
      "9: Sambava\n",
      "Missing name data\n",
      "11: Yarmouth\n",
      "12: Hobart\n",
      "13: New Norfolk\n",
      "14: Filingué\n",
      "15: Örnsköldsvik\n",
      "16: Hasaki\n",
      "17: Punta Arenas\n",
      "18: Mataura\n",
      "19: Yellowknife\n",
      "20: Saskylakh\n",
      "21: Lüderitz\n",
      "Missing name data\n",
      "Missing name data\n",
      "24: Barrow\n",
      "25: Kaitangata\n",
      "26: Jamestown\n",
      "27: Flinders\n",
      "28: Fort Nelson\n",
      "Missing name data\n",
      "30: Adrar\n",
      "31: Ushuaia\n",
      "32: Bengkulu\n",
      "33: Vostok\n",
      "34: Hermanus\n",
      "35: Kendari\n",
      "36: Rikitea\n",
      "37: Nikolskoye\n",
      "38: Carnarvon\n",
      "39: Bahía de Caráquez\n",
      "40: Cape Canaveral\n",
      "41: Gillette\n",
      "42: Cherskiy\n",
      "43: Puerto Ayora\n",
      "44: Mar del Plata\n",
      "45: Khovd\n",
      "Missing name data\n",
      "47: Mehamn\n",
      "48: Thompson\n",
      "49: Saint-Philippe\n",
      "50: Raahe\n",
      "Missing name data\n",
      "52: Qaanaaq\n",
      "53: Esperance\n",
      "54: Belmonte\n",
      "55: Cayenne\n",
      "56: Bad Liebenzell\n",
      "57: Bredasdorp\n",
      "Missing name data\n",
      "59: Lata\n",
      "60: Ilulissat\n",
      "61: Vaini\n",
      "62: Suba\n",
      "63: Manta\n",
      "Missing name data\n",
      "65: Severo-Kuril'sk\n",
      "66: Spirovo\n",
      "Missing name data\n",
      "68: Manyana\n",
      "69: Atuona\n",
      "70: Lorengau\n",
      "71: Hobyo\n",
      "72: Bluff\n",
      "73: Auki\n",
      "74: San Ramon\n",
      "75: Kapaa\n",
      "76: Brae\n",
      "77: Sørland\n",
      "78: Noshiro\n",
      "79: Ponta Delgada\n",
      "80: Stann Creek Town\n",
      "81: Limaong\n",
      "82: Huejuquilla el Alto\n",
      "83: Kalemie\n",
      "84: Hilo\n",
      "85: Port-Gentil\n",
      "86: Coquimbo\n",
      "87: Meulaboh\n",
      "88: Kyabé\n",
      "89: Hof\n",
      "90: São Filipe\n",
      "91: Uíge\n",
      "92: San Cristobal\n",
      "93: Okhotsk\n",
      "94: Monrovia\n",
      "Missing name data\n",
      "96: Jerome\n",
      "97: Castro\n",
      "98: Talnakh\n",
      "99: Ulaangom\n",
      "Missing name data\n",
      "101: Caravelas\n",
      "Missing name data\n",
      "103: Port Elizabeth\n",
      "104: Aklavik\n",
      "105: Peniche\n",
      "106: Moree\n",
      "107: Half Moon Bay\n",
      "108: Khandyga\n",
      "109: Bambous Virieux\n",
      "110: Baykit\n",
      "Missing name data\n",
      "112: Harper\n",
      "113: Laguna\n",
      "114: Albany\n",
      "115: Grand Gaube\n",
      "116: Tasiilaq\n",
      "117: Phek\n",
      "118: Grafton\n",
      "Missing name data\n",
      "120: Curuguaty\n",
      "121: Lagoa\n",
      "Missing name data\n",
      "123: Kavieng\n",
      "124: Tuatapere\n",
      "125: Bethel\n",
      "126: Yerbogachën\n",
      "127: Lompoc\n",
      "128: Nísia Floresta\n",
      "129: Hamilton\n",
      "130: Lebu\n",
      "131: Mahébourg\n",
      "132: Ayna\n",
      "133: Ponta do Sol\n",
      "134: Natchitoches\n",
      "135: Abashiri\n",
      "136: Provideniya\n",
      "137: Saint George\n",
      "138: Mareeba\n",
      "139: Galich\n",
      "140: Nemuro\n",
      "Missing name data\n",
      "142: Coffs Harbour\n",
      "Missing name data\n",
      "144: Pevek\n",
      "145: Tiksi\n",
      "146: Hong Kong\n",
      "147: Te Anau\n",
      "148: Leningradskiy\n",
      "149: Alice Springs\n",
      "150: Krasnaya Yaruga\n",
      "151: Laas\n",
      "152: Taoudenni\n",
      "153: Prescott Valley\n",
      "154: Aswān\n",
      "155: Walvis Bay\n",
      "156: Quatre Cocos\n",
      "157: Nsanje\n",
      "158: Ruska Poliana\n",
      "159: Ganzhou\n",
      "160: Mbinga\n",
      "161: Purpe\n",
      "162: Chui\n",
      "Missing name data\n",
      "164: Rosarito\n",
      "Missing name data\n",
      "Missing name data\n",
      "167: Chokurdakh\n",
      "168: Whitehorse\n",
      "169: Sibolga\n",
      "170: San Andrés\n",
      "171: Pangnirtung\n",
      "172: Tupelo\n",
      "173: Ahipara\n",
      "174: Port Hardy\n",
      "175: Muncar\n",
      "176: Tezu\n",
      "177: Butaritari\n",
      "178: Salym\n",
      "179: Havre-St-Pierre\n",
      "180: Longyearbyen\n",
      "Missing name data\n",
      "182: Bogotol\n",
      "183: Touros\n",
      "184: San Patricio\n",
      "185: Vestmannaeyjar\n",
      "Missing name data\n",
      "187: Wolverhampton\n",
      "188: Klaksvík\n",
      "Missing name data\n",
      "190: Tuktoyaktuk\n",
      "191: Goderich\n",
      "Missing name data\n",
      "193: Kudat\n",
      "194: Katsuura\n",
      "195: Norwalk\n",
      "196: Ribeira Grande\n",
      "197: Malartic\n",
      "198: Asnæs\n",
      "Missing name data\n",
      "200: São João da Barra\n",
      "Missing name data\n",
      "Missing name data\n",
      "203: Geraldton\n",
      "204: Kaeo\n",
      "205: Riverton\n",
      "206: Dutlwe\n",
      "207: Chapais\n",
      "208: Porto-Novo\n",
      "Missing name data\n",
      "210: Dikson\n",
      "211: Wattegama\n",
      "212: Constitución\n",
      "213: Fortuna\n",
      "214: Sandwick\n",
      "215: Havøysund\n",
      "216: Dunedin\n",
      "217: Shenkursk\n",
      "218: Alofi\n",
      "219: Benjamin Constant\n",
      "220: Inírida\n",
      "221: Nanortalik\n",
      "222: Bolivar\n",
      "223: Podbrdo\n",
      "224: Grand-Santi\n",
      "225: Sinegor'ye\n",
      "226: Villa Guerrero\n",
      "227: Tabuk\n",
      "228: Ojinaga\n",
      "229: George Town\n",
      "230: Altay\n",
      "231: Joigny\n",
      "232: Krasnyy Chikoy\n",
      "233: Kabanjahe\n",
      "234: Provincia di Lecce\n",
      "235: Shubarkuduk\n",
      "236: Khatanga\n",
      "237: Sitka\n",
      "238: Vikhorevka\n",
      "239: Manaure\n",
      "Missing name data\n",
      "241: Nome\n",
      "242: Cockburn Town\n",
      "243: Cidreira\n",
      "Missing name data\n",
      "245: East London\n",
      "246: Gualeguay\n",
      "247: Torbay\n",
      "248: Zhuhai\n",
      "249: Moengo\n",
      "250: Sudislavl'\n",
      "251: Naze\n",
      "252: Los Llanos de Aridane\n",
      "253: George Town\n",
      "254: San Quintín\n",
      "255: Iskateley\n",
      "256: Batagay-Alyta\n",
      "257: Sisimiut\n",
      "258: Cabo San Lucas\n",
      "259: Pecos\n",
      "260: Faranah\n",
      "261: Egvekinot\n",
      "262: Kruisfontein\n",
      "263: Agua Dulce\n",
      "264: Biloela\n",
      "265: Baní\n",
      "266: Olinda\n",
      "267: Olafsvik\n",
      "268: Samarai\n",
      "269: Lavrentiya\n",
      "270: The Valley\n",
      "271: Beringovskiy\n",
      "272: São José da Coroa Grande\n",
      "273: Kieta\n",
      "274: Avarua\n",
      "275: Comodoro Rivadavia\n",
      "276: San Alberto\n",
      "277: Asău\n",
      "278: Dangcagan\n",
      "Missing name data\n",
      "280: Basco\n",
      "281: Tilichiki\n",
      "282: Itaituba\n",
      "283: Ambilobe\n",
      "284: Los Andes\n",
      "285: Gualaquiza\n",
      "286: Batagay\n",
      "287: Forsytheganj\n",
      "288: Shelbyville\n",
      "289: Faanui\n",
      "290: Okha\n",
      "Missing name data\n",
      "292: Berlevåg\n",
      "Missing name data\n",
      "294: Mount Gambier\n",
      "295: Saint Paul Harbor\n",
      "Missing name data\n",
      "297: Machalí\n",
      "298: ‘Āhuimanu\n",
      "299: Kahului\n",
      "300: Shingū\n",
      "301: Poum\n",
      "302: Vestnes\n",
      "303: Shetpe\n",
      "Missing name data\n",
      "305: São José de Ribamar\n",
      "Missing name data\n",
      "307: Zapolyarnyy\n",
      "308: Husavik\n",
      "309: Yar-Sale\n",
      "310: Guerrero Negro\n",
      "311: Port Lincoln\n",
      "312: Gornji Vakuf\n",
      "313: Marzuq\n",
      "314: Kars\n",
      "315: Cadillac\n",
      "316: Clyde River\n",
      "Missing name data\n",
      "318: Gijang\n",
      "319: Namatanai\n",
      "320: Tromsø\n",
      "321: Nelson Bay\n",
      "322: Yenotayevka\n",
      "323: Nanyuki\n",
      "324: Sioux Lookout\n",
      "325: Padang\n",
      "326: Jumla\n",
      "327: Bogatynia\n",
      "328: Vila Velha\n",
      "329: Blackwater\n",
      "Missing name data\n",
      "331: Kavaratti\n",
      "332: Agirish\n",
      "333: Rubtsovsk\n",
      "334: Davila\n",
      "335: Kwinana\n",
      "336: Saldanha\n",
      "337: Domoni\n",
      "338: Punta Umbría\n",
      "339: Bria\n",
      "340: Dicabisagan\n",
      "341: Upata\n",
      "342: Stornoway\n",
      "343: Upernavik\n",
      "344: Yulara\n",
      "345: Honiara\n",
      "346: Shache\n",
      "347: Port Hawkesbury\n",
      "348: Banda Aceh\n",
      "349: Paamiut\n",
      "350: Pierre\n",
      "351: Abancay\n",
      "352: Cap Malheureux\n",
      "353: Staryy Nadym\n",
      "354: Malakanagiri\n",
      "355: Antofagasta\n",
      "Missing name data\n",
      "357: Ust'-Omchug\n",
      "358: Saint-Augustin\n",
      "359: Grenville\n",
      "360: Coahuayana Viejo\n",
      "361: Sundsvall\n",
      "362: Kostino\n",
      "363: Tessalit\n",
      "364: Ihosy\n",
      "365: Gürgentepe\n",
      "366: Austin\n",
      "367: Norwich\n",
      "368: Acapulco de Juárez\n",
      "369: Mahenge\n",
      "370: Ucluelet\n",
      "Missing name data\n",
      "372: Camocim\n",
      "373: Gorontalo\n",
      "374: Quelimane\n",
      "375: Safi\n",
      "376: Aksu\n",
      "Missing name data\n",
      "378: Fort Walton Beach\n",
      "Missing name data\n",
      "380: Tahe\n",
      "381: Sorgun\n",
      "382: Teguise\n",
      "383: Shimoda\n",
      "384: Tūkrah\n",
      "385: Kodinsk\n",
      "386: Korem\n",
      "387: Sobolevo\n",
      "388: Llanes\n",
      "389: Port Blair\n",
      "390: Vao\n",
      "391: Laibin\n",
      "392: Várzea Grande\n",
      "393: Nanjangūd\n",
      "394: Luwuk\n",
      "395: Senno\n",
      "396: Shimanovsk\n",
      "397: Lishu\n",
      "398: Itoman\n",
      "399: Arraial do Cabo\n",
      "400: Conde\n",
      "401: Cabedelo\n",
      "402: Dukat\n",
      "403: Kālikāpur\n",
      "404: Isangel\n",
      "405: Ostrovnoy\n",
      "406: Thinadhoo\n",
      "407: Grand Forks\n",
      "408: Kashiwazaki\n",
      "409: Kailua\n",
      "410: Abu Samrah\n",
      "411: São Gonçalo do Amarante\n",
      "412: Pontes e Lacerda\n",
      "413: Atasū\n",
      "414: La Palma\n",
      "Missing name data\n",
      "416: Sittwe\n",
      "417: Ryōtsu-minato\n",
      "418: Bayir\n",
      "419: Hofn\n",
      "420: Tuy Hoa\n",
      "421: Bratslav\n",
      "422: Bagdarin\n",
      "423: Shitanjing\n",
      "424: Bilma\n",
      "425: Puerto Baquerizo Moreno\n",
      "426: Le Port\n",
      "427: Anapskaya\n",
      "428: Lewisporte\n",
      "429: Marawi\n",
      "430: Bāglung\n",
      "431: Nantucket\n",
      "432: Hay River\n",
      "433: Mogzon\n",
      "434: Praia da Vitória\n",
      "435: Maniitsoq\n",
      "436: Rincon\n",
      "437: Limbang\n",
      "438: Nicolás Bravo\n",
      "439: Fairbanks\n",
      "440: Black River\n",
      "441: Alta Floresta\n",
      "442: Dingle\n",
      "443: Sechura\n",
      "444: Tselinnoye\n",
      "445: Washington\n",
      "446: Verkhnevilyuysk\n",
      "447: Conceição das Alagoas\n",
      "448: Bonavista\n",
      "449: Curaçá\n",
      "450: Bairiki Village\n",
      "451: Portland\n",
      "452: Sativasur\n",
      "453: Hervey Bay\n",
      "454: Brønnøysund\n",
      "455: Alyangula\n",
      "456: Pīpri\n",
      "457: Nizwá\n",
      "458: Biak\n",
      "459: Khovu-Aksy\n",
      "460: Butterworth\n",
      "461: George\n",
      "462: Kango\n",
      "463: Diapaga\n",
      "464: Reitz\n",
      "465: Dillon\n",
      "466: Orlik\n",
      "467: East Wenatchee Bench\n",
      "468: Kumul\n",
      "469: Mazamari\n",
      "470: Vestmanna\n",
      "471: Omsukchan\n",
      "472: Creel\n",
      "Missing name data\n",
      "474: Coari\n",
      "475: North Battleford\n",
      "Missing name data\n",
      "Missing name data\n",
      "478: Iqaluit\n",
      "479: Mount Isa\n",
      "480: Kenitra\n",
      "481: Payson\n",
      "482: Kargasok\n",
      "483: Kelowna\n",
      "484: Hirara\n",
      "485: Verkhnyaya Toyma\n",
      "486: Khāsh\n",
      "487: Verkhoyansk\n",
      "488: Sakaraha\n",
      "489: Nouakchott\n",
      "490: Marabu\n",
      "491: Ürümqi\n",
      "492: Kungurtug\n",
      "Missing name data\n",
      "494: Livingstone\n",
      "495: Haines Junction\n",
      "496: Natal\n",
      "497: Puerto Cabezas\n",
      "498: Ishigaki\n",
      "499: Burnie\n",
      "500: Airai\n",
      "501: Glinka\n",
      "502: Miraflores\n",
      "503: Saint-Joseph\n",
      "504: Contai\n",
      "505: Irtyshskiy\n",
      "506: Luanda\n",
      "507: Necochea\n",
      "508: Nālūt\n",
      "Missing name data\n",
      "510: Baiyin\n",
      "511: Pacific Grove\n",
      "512: Pokhara\n",
      "513: Udachny\n",
      "514: Magistral'nyy\n",
      "515: Gogrial\n",
      "516: Marang\n",
      "Missing name data\n",
      "518: Belozërskoye\n",
      "Missing name data\n",
      "Missing name data\n",
      "521: Palm Coast\n",
      "522: Toshkivka\n",
      "523: Ancud\n",
      "Missing name data\n",
      "525: Red Bluff\n",
      "526: Vaitape\n",
      "527: Minna\n",
      "528: Krasnosel'kup\n",
      "529: Båtsfjord\n",
      "530: Balabac\n",
      "531: San Isidro\n",
      "532: Talara\n",
      "533: Owo\n",
      "534: Tashla\n",
      "535: Leh\n",
      "536: Nicoya\n",
      "537: Wonthaggi\n",
      "538: Yichang\n",
      "539: Knysna\n",
      "540: Kuji\n",
      "541: Korla\n",
      "542: Buraidah\n",
      "543: Gao\n",
      "544: Winchester\n",
      "545: Santa Rosa\n",
      "546: Byron Bay\n",
      "547: Nchelenge\n",
      "Missing name data\n",
      "549: Flic en Flac\n",
      "Missing name data\n",
      "551: Umluj\n",
      "Missing name data\n",
      "553: La Ronge\n",
      "554: Villazón\n",
      "555: Santa Luzia\n"
     ]
    },
    {
     "name": "stdout",
     "output_type": "stream",
     "text": [
      "556: Babu\n",
      "557: Sur\n",
      "558: Mazagão\n",
      "559: Brodnica\n",
      "560: Norman Wells\n",
      "561: Faya\n",
      "562: Chumikan\n",
      "563: Atoyac\n",
      "564: Hongjiang\n",
      "565: College\n",
      "566: Puksoozero\n",
      "567: Wellin\n",
      "568: Dargaville\n",
      "569: Turukhansk\n",
      "570: Turbat\n",
      "571: Hue\n",
      "572: Aurdal\n",
      "Missing name data\n",
      "574: Roebourne\n",
      "575: Savelugu\n",
      "576: Mankāpur\n",
      "577: Henderson\n",
      "578: Kasongo-Lunda\n",
      "Missing name data\n",
      "580: Dalvik\n",
      "581: Bathsheba\n",
      "582: Barão de Melgaço\n",
      "583: Puerto Escondido\n",
      "584: Lethem\n",
      "585: Daru\n",
      "586: Mt. Pleasant\n",
      "587: Arman'\n",
      "588: Mehrān\n",
      "589: Wau\n",
      "590: Boralday\n",
      "591: Paraná\n",
      "592: Palmer\n",
      "593: Pisco\n",
      "594: Vila Franca do Campo\n",
      "595: Maddagiri\n",
      "596: Katobu\n",
      "597: Lebyazh'ye\n",
      "598: Partenit\n",
      "599: Tocopilla\n",
      "600: Beloha\n",
      "601: Bandarbeyla\n",
      "602: Aykhal\n"
     ]
    }
   ],
   "source": [
    "url = \"http://api.openweathermap.org/data/2.5/weather?\"\n",
    "number= 0\n",
    "\n",
    "name=[]\n",
    "lat=[]\n",
    "lon=[]\n",
    "temp=[]\n",
    "max_temp=[]\n",
    "wind_spd=[]\n",
    "clouds=[]\n",
    "humidity=[]\n",
    "\n",
    "for city in cities:\n",
    "    query_url = url + \"appid=\" + weather_api_key + \"&units=imperial&q=\" + city\n",
    "\n",
    "    weather_response = requests.get(query_url)\n",
    "    weather_json = weather_response.json()\n",
    "    \n",
    "    number=number+1\n",
    "\n",
    "    try:\n",
    "        print(f\"{number}: {weather_json['name']}\")\n",
    "        name.append(weather_json['name'])\n",
    "        lat.append(weather_json['coord']['lat'])\n",
    "        lon.append(weather_json['coord']['lon'])\n",
    "        temp.append(weather_json['main']['temp'])\n",
    "        max_temp.append(weather_json['main']['temp_max'])\n",
    "        wind_spd.append(weather_json['wind']['speed'])\n",
    "        clouds.append(weather_json['clouds']['all'])\n",
    "        humidity.append(weather_json['main']['humidity'])\n",
    "    except:\n",
    "        print(\"Missing name data\")\n",
    "        name.append(\"Missing data\")\n",
    "        lat.append(\"Missing data\")\n",
    "        lon.append(\"Missing data\")\n",
    "        temp.append(\"Missing data\")\n",
    "        max_temp.append(\"Missing data\")\n",
    "        wind_spd.append(\"Missing data\")\n",
    "        clouds.append(\"Missing data\")\n",
    "        humidity.append(\"Missing data\")"
   ]
  },
  {
   "cell_type": "markdown",
   "metadata": {},
   "source": [
    "### Convert Raw Data to DataFrame\n",
    "* Export the city data into a .csv.\n",
    "* Display the DataFrame"
   ]
  },
  {
   "cell_type": "code",
   "execution_count": 5,
   "metadata": {},
   "outputs": [
    {
     "data": {
      "text/html": [
       "<div>\n",
       "<style scoped>\n",
       "    .dataframe tbody tr th:only-of-type {\n",
       "        vertical-align: middle;\n",
       "    }\n",
       "\n",
       "    .dataframe tbody tr th {\n",
       "        vertical-align: top;\n",
       "    }\n",
       "\n",
       "    .dataframe thead th {\n",
       "        text-align: right;\n",
       "    }\n",
       "</style>\n",
       "<table border=\"1\" class=\"dataframe\">\n",
       "  <thead>\n",
       "    <tr style=\"text-align: right;\">\n",
       "      <th></th>\n",
       "      <th>city</th>\n",
       "      <th>latitude</th>\n",
       "      <th>longitude</th>\n",
       "      <th>temperature</th>\n",
       "      <th>max temperature</th>\n",
       "      <th>wind speed</th>\n",
       "      <th>cloudiness</th>\n",
       "      <th>humidity</th>\n",
       "    </tr>\n",
       "  </thead>\n",
       "  <tbody>\n",
       "    <tr>\n",
       "      <th>0</th>\n",
       "      <td>Ketchikan</td>\n",
       "      <td>55.3422</td>\n",
       "      <td>-131.646</td>\n",
       "      <td>50.47</td>\n",
       "      <td>50.47</td>\n",
       "      <td>19.57</td>\n",
       "      <td>90</td>\n",
       "      <td>87</td>\n",
       "    </tr>\n",
       "    <tr>\n",
       "      <th>1</th>\n",
       "      <td>Cape Town</td>\n",
       "      <td>-33.9258</td>\n",
       "      <td>18.4232</td>\n",
       "      <td>59.31</td>\n",
       "      <td>61.27</td>\n",
       "      <td>3</td>\n",
       "      <td>75</td>\n",
       "      <td>82</td>\n",
       "    </tr>\n",
       "    <tr>\n",
       "      <th>2</th>\n",
       "      <td>Missing data</td>\n",
       "      <td>Missing data</td>\n",
       "      <td>Missing data</td>\n",
       "      <td>Missing data</td>\n",
       "      <td>Missing data</td>\n",
       "      <td>Missing data</td>\n",
       "      <td>Missing data</td>\n",
       "      <td>Missing data</td>\n",
       "    </tr>\n",
       "    <tr>\n",
       "      <th>3</th>\n",
       "      <td>Makkah al Mukarramah</td>\n",
       "      <td>21.4267</td>\n",
       "      <td>39.8261</td>\n",
       "      <td>85.06</td>\n",
       "      <td>85.06</td>\n",
       "      <td>4.54</td>\n",
       "      <td>6</td>\n",
       "      <td>46</td>\n",
       "    </tr>\n",
       "    <tr>\n",
       "      <th>4</th>\n",
       "      <td>Port Alfred</td>\n",
       "      <td>-33.5906</td>\n",
       "      <td>26.891</td>\n",
       "      <td>61.41</td>\n",
       "      <td>61.41</td>\n",
       "      <td>2.39</td>\n",
       "      <td>29</td>\n",
       "      <td>85</td>\n",
       "    </tr>\n",
       "  </tbody>\n",
       "</table>\n",
       "</div>"
      ],
      "text/plain": [
       "                   city      latitude     longitude   temperature  \\\n",
       "0             Ketchikan       55.3422      -131.646         50.47   \n",
       "1             Cape Town      -33.9258       18.4232         59.31   \n",
       "2          Missing data  Missing data  Missing data  Missing data   \n",
       "3  Makkah al Mukarramah       21.4267       39.8261         85.06   \n",
       "4           Port Alfred      -33.5906        26.891         61.41   \n",
       "\n",
       "  max temperature    wind speed    cloudiness      humidity  \n",
       "0           50.47         19.57            90            87  \n",
       "1           61.27             3            75            82  \n",
       "2    Missing data  Missing data  Missing data  Missing data  \n",
       "3           85.06          4.54             6            46  \n",
       "4           61.41          2.39            29            85  "
      ]
     },
     "execution_count": 5,
     "metadata": {},
     "output_type": "execute_result"
    }
   ],
   "source": [
    "city_data = {\n",
    "    'city': name,\n",
    "    'latitude':lat,\n",
    "    'longitude':lon,\n",
    "    'temperature':temp,\n",
    "    'max temperature':max_temp,\n",
    "    'wind speed':wind_spd,\n",
    "    'cloudiness':clouds,\n",
    "    'humidity':humidity\n",
    "}\n",
    "\n",
    "original_city_df = pd.DataFrame(city_data)\n",
    "original_city_df.head()"
   ]
  },
  {
   "cell_type": "code",
   "execution_count": 6,
   "metadata": {},
   "outputs": [
    {
     "data": {
      "text/plain": [
       "city               544\n",
       "latitude           544\n",
       "longitude          544\n",
       "temperature        544\n",
       "max temperature    544\n",
       "wind speed         544\n",
       "cloudiness         544\n",
       "humidity           544\n",
       "dtype: int64"
      ]
     },
     "execution_count": 6,
     "metadata": {},
     "output_type": "execute_result"
    }
   ],
   "source": [
    "city_df = original_city_df.loc[original_city_df['latitude'] != 'Missing data']\n",
    "city_df.count()"
   ]
  },
  {
   "cell_type": "code",
   "execution_count": 7,
   "metadata": {},
   "outputs": [],
   "source": [
    "city_df.to_csv('output_data/cities.csv')"
   ]
  },
  {
   "cell_type": "markdown",
   "metadata": {},
   "source": [
    "## Inspect the data and remove the cities where the humidity > 100%.\n",
    "----\n",
    "Skip this step if there are no cities that have humidity > 100%. "
   ]
  },
  {
   "cell_type": "code",
   "execution_count": 8,
   "metadata": {},
   "outputs": [
    {
     "data": {
      "text/plain": [
       "city               0\n",
       "latitude           0\n",
       "longitude          0\n",
       "temperature        0\n",
       "max temperature    0\n",
       "wind speed         0\n",
       "cloudiness         0\n",
       "humidity           0\n",
       "dtype: int64"
      ]
     },
     "execution_count": 8,
     "metadata": {},
     "output_type": "execute_result"
    }
   ],
   "source": [
    "humid = city_df.loc[city_df['humidity'] > 100]\n",
    "humid.count()"
   ]
  },
  {
   "cell_type": "code",
   "execution_count": 9,
   "metadata": {},
   "outputs": [],
   "source": [
    "#  Get the indices of cities that have humidity over 100%.\n",
    "\n"
   ]
  },
  {
   "cell_type": "code",
   "execution_count": 10,
   "metadata": {},
   "outputs": [],
   "source": [
    "# Make a new DataFrame equal to the city data to drop all humidity outliers by index.\n",
    "# Passing \"inplace=False\" will make a copy of the city_data DataFrame, which we call \"clean_city_data\".\n"
   ]
  },
  {
   "cell_type": "code",
   "execution_count": null,
   "metadata": {},
   "outputs": [],
   "source": [
    "\n"
   ]
  },
  {
   "cell_type": "markdown",
   "metadata": {},
   "source": [
    "## Plotting the Data\n",
    "* Use proper labeling of the plots using plot titles (including date of analysis) and axes labels.\n",
    "* Save the plotted figures as .pngs."
   ]
  },
  {
   "cell_type": "markdown",
   "metadata": {},
   "source": [
    "## Latitude vs. Temperature Plot"
   ]
  },
  {
   "cell_type": "code",
   "execution_count": 11,
   "metadata": {
    "scrolled": true
   },
   "outputs": [],
   "source": [
    "city_lat = city_df['latitude']\n",
    "city_temp = city_df['temperature']\n",
    "city_humidity = city_df['humidity']\n",
    "city_cloud = city_df['cloudiness']\n",
    "city_wind =city_df['wind speed']"
   ]
  },
  {
   "cell_type": "code",
   "execution_count": 12,
   "metadata": {},
   "outputs": [
    {
     "data": {
      "image/png": "[encoded data removed]",
      "text/plain": [
       "<Figure size 432x288 with 1 Axes>"
      ]
     },
     "metadata": {
      "needs_background": "light"
     },
     "output_type": "display_data"
    }
   ],
   "source": [
    "plt.scatter(city_lat,city_temp)\n",
    "\n",
    "plt.title(\"City Latitude vs Temperature\")\n",
    "plt.ylabel(\"Temperature\")\n",
    "plt.xlabel(\"Latitude\")\n",
    "\n",
    "plt.savefig(\"lat-temp.png\")\n",
    "plt.show()"
   ]
  },
  {
   "cell_type": "markdown",
   "metadata": {},
   "source": [
    "As you would expect, the cities closer to the equator have higher temperatures. It is interesting that those closer to the North Pole have lower temperatures than those closer to the South Pole. That could be due to fewer cities selected in the Southern Hemisphere, though."
   ]
  },
  {
   "cell_type": "markdown",
   "metadata": {},
   "source": [
    "## Latitude vs. Humidity Plot"
   ]
  },
  {
   "cell_type": "code",
   "execution_count": 13,
   "metadata": {},
   "outputs": [
    {
     "data": {
      "image/png": "[encoded data removed]",
      "text/plain": [
       "<Figure size 432x288 with 1 Axes>"
      ]
     },
     "metadata": {
      "needs_background": "light"
     },
     "output_type": "display_data"
    }
   ],
   "source": [
    "plt.scatter(city_lat,city_humidity)\n",
    "\n",
    "plt.title(\"City Latitude vs Humidity\")\n",
    "plt.ylabel(\"Humidity\")\n",
    "plt.xlabel(\"Latitude\")\n",
    "\n",
    "plt.savefig(\"lat-hum.png\")\n",
    "plt.show()"
   ]
  },
  {
   "cell_type": "markdown",
   "metadata": {},
   "source": [
    "There doesn't seem to be much correlation between humidity and latitude. This isn't too surprising as there are rain-heavy/very-humid regions all over the globe, just like there are deserts scattered around. "
   ]
  },
  {
   "cell_type": "markdown",
   "metadata": {},
   "source": [
    "## Latitude vs. Cloudiness Plot"
   ]
  },
  {
   "cell_type": "code",
   "execution_count": 14,
   "metadata": {},
   "outputs": [
    {
     "data": {
      "image/png": "[encoded data removed]",
      "text/plain": [
       "<Figure size 432x288 with 1 Axes>"
      ]
     },
     "metadata": {
      "needs_background": "light"
     },
     "output_type": "display_data"
    }
   ],
   "source": [
    "plt.scatter(city_lat,city_cloud)\n",
    "\n",
    "plt.title(\"City Latitude vs Cloudiness\")\n",
    "plt.ylabel(\"Cloudiness\")\n",
    "plt.xlabel(\"Latitude\")\n",
    "\n",
    "plt.savefig(\"lat-cloud.png\")\n",
    "plt.show()"
   ]
  },
  {
   "cell_type": "markdown",
   "metadata": {},
   "source": [
    "Much like humidity, there isn't much correlation between cloudiness and latitude. I am curious about the straight lines of points that appeared. My guess would be something in how the cloudiness is calculated that results in the multiple cities having the same exact measurement."
   ]
  },
  {
   "cell_type": "markdown",
   "metadata": {},
   "source": [
    "## Latitude vs. Wind Speed Plot"
   ]
  },
  {
   "cell_type": "code",
   "execution_count": 15,
   "metadata": {},
   "outputs": [
    {
     "data": {
      "image/png": "[encoded data removed]",
      "text/plain": [
       "<Figure size 432x288 with 1 Axes>"
      ]
     },
     "metadata": {
      "needs_background": "light"
     },
     "output_type": "display_data"
    }
   ],
   "source": [
    "plt.scatter(city_lat,city_wind)\n",
    "\n",
    "plt.title(\"City Latitude vs Wind Speed\")\n",
    "plt.ylabel(\"Wind Speed (mph)\")\n",
    "plt.xlabel(\"Latitude\")\n",
    "\n",
    "plt.savefig(\"lat-wind.png\")\n",
    "plt.show()"
   ]
  },
  {
   "cell_type": "markdown",
   "metadata": {},
   "source": [
    "Not much correlation between the two factors here, either, though it does show that most of the cities selected tend to not have very high wind-speeds."
   ]
  },
  {
   "cell_type": "markdown",
   "metadata": {},
   "source": [
    "## Linear Regression"
   ]
  },
  {
   "cell_type": "code",
   "execution_count": 21,
   "metadata": {},
   "outputs": [
    {
     "name": "stderr",
     "output_type": "stream",
     "text": [
      "<ipython-input-21-9e2c01d31959>:3: SettingWithCopyWarning: \n",
      "A value is trying to be set on a copy of a slice from a DataFrame.\n",
      "Try using .loc[row_indexer,col_indexer] = value instead\n",
      "\n",
      "See the caveats in the documentation: https://pandas.pydata.org/pandas-docs/stable/user_guide/indexing.html#returning-a-view-versus-a-copy\n",
      "  city_df['latitude']=city_df['latitude'].astype(float)\n",
      "<ipython-input-21-9e2c01d31959>:4: SettingWithCopyWarning: \n",
      "A value is trying to be set on a copy of a slice from a DataFrame.\n",
      "Try using .loc[row_indexer,col_indexer] = value instead\n",
      "\n",
      "See the caveats in the documentation: https://pandas.pydata.org/pandas-docs/stable/user_guide/indexing.html#returning-a-view-versus-a-copy\n",
      "  city_df['longitude']=city_df['longitude'].astype(float)\n",
      "<ipython-input-21-9e2c01d31959>:5: SettingWithCopyWarning: \n",
      "A value is trying to be set on a copy of a slice from a DataFrame.\n",
      "Try using .loc[row_indexer,col_indexer] = value instead\n",
      "\n",
      "See the caveats in the documentation: https://pandas.pydata.org/pandas-docs/stable/user_guide/indexing.html#returning-a-view-versus-a-copy\n",
      "  city_df['temperature']=city_df['temperature'].astype(float)\n",
      "<ipython-input-21-9e2c01d31959>:6: SettingWithCopyWarning: \n",
      "A value is trying to be set on a copy of a slice from a DataFrame.\n",
      "Try using .loc[row_indexer,col_indexer] = value instead\n",
      "\n",
      "See the caveats in the documentation: https://pandas.pydata.org/pandas-docs/stable/user_guide/indexing.html#returning-a-view-versus-a-copy\n",
      "  city_df['max temperature']=city_df['max temperature'].astype(float)\n",
      "<ipython-input-21-9e2c01d31959>:7: SettingWithCopyWarning: \n",
      "A value is trying to be set on a copy of a slice from a DataFrame.\n",
      "Try using .loc[row_indexer,col_indexer] = value instead\n",
      "\n",
      "See the caveats in the documentation: https://pandas.pydata.org/pandas-docs/stable/user_guide/indexing.html#returning-a-view-versus-a-copy\n",
      "  city_df['wind speed']=city_df['wind speed'].astype(float)\n",
      "<ipython-input-21-9e2c01d31959>:8: SettingWithCopyWarning: \n",
      "A value is trying to be set on a copy of a slice from a DataFrame.\n",
      "Try using .loc[row_indexer,col_indexer] = value instead\n",
      "\n",
      "See the caveats in the documentation: https://pandas.pydata.org/pandas-docs/stable/user_guide/indexing.html#returning-a-view-versus-a-copy\n",
      "  city_df['cloudiness']=city_df['cloudiness'].astype(float)\n",
      "<ipython-input-21-9e2c01d31959>:9: SettingWithCopyWarning: \n",
      "A value is trying to be set on a copy of a slice from a DataFrame.\n",
      "Try using .loc[row_indexer,col_indexer] = value instead\n",
      "\n",
      "See the caveats in the documentation: https://pandas.pydata.org/pandas-docs/stable/user_guide/indexing.html#returning-a-view-versus-a-copy\n",
      "  city_df['humidity']=city_df['humidity'].astype(float)\n"
     ]
    },
    {
     "data": {
      "text/plain": [
       "city                object\n",
       "latitude           float64\n",
       "longitude          float64\n",
       "temperature        float64\n",
       "max temperature    float64\n",
       "wind speed         float64\n",
       "cloudiness         float64\n",
       "humidity           float64\n",
       "dtype: object"
      ]
     },
     "execution_count": 21,
     "metadata": {},
     "output_type": "execute_result"
    }
   ],
   "source": [
    "#Ran into error that regression model couldn't use the type the fields were set to, need to change to float\n",
    "\n",
    "city_df['latitude']=city_df['latitude'].astype(float)\n",
    "city_df['longitude']=city_df['longitude'].astype(float)\n",
    "city_df['temperature']=city_df['temperature'].astype(float)\n",
    "city_df['max temperature']=city_df['max temperature'].astype(float)\n",
    "city_df['wind speed']=city_df['wind speed'].astype(float)\n",
    "city_df['cloudiness']=city_df['cloudiness'].astype(float)\n",
    "city_df['humidity']=city_df['humidity'].astype(float)\n",
    "\n",
    "city_df.dtypes\n",
    "\n"
   ]
  },
  {
   "cell_type": "code",
   "execution_count": 22,
   "metadata": {},
   "outputs": [],
   "source": [
    "north = city_df.loc[city_df['latitude'] >= 0]\n",
    "south = city_df.loc[city_df['latitude'] < 0]\n",
    "\n",
    "north_lat = north['latitude']\n",
    "north_temp = north['max temperature']\n",
    "north_hum = north['humidity']\n",
    "north_wind = north['wind speed']\n",
    "north_cloud =north['cloudiness']\n",
    "\n",
    "south_lat = south['latitude']\n",
    "south_temp = south['max temperature']\n",
    "south_hum = south['humidity']\n",
    "south_wind = south['wind speed']\n",
    "south_cloud =south['cloudiness']"
   ]
  },
  {
   "cell_type": "markdown",
   "metadata": {},
   "source": [
    "####  Northern Hemisphere - Max Temp vs. Latitude Linear Regression"
   ]
  },
  {
   "cell_type": "code",
   "execution_count": 35,
   "metadata": {},
   "outputs": [
    {
     "name": "stdout",
     "output_type": "stream",
     "text": [
      "The r-value is: 0.730281617054467\n"
     ]
    },
    {
     "data": {
      "image/png": "[encoded data removed]",
      "text/plain": [
       "<Figure size 432x288 with 1 Axes>"
      ]
     },
     "metadata": {
      "needs_background": "light"
     },
     "output_type": "display_data"
    }
   ],
   "source": [
    "(slope, intercept, rvalue, pvalue, stderr) = linregress(north_lat, north_temp)\n",
    "regress_values = north_lat * slope + intercept\n",
    "line_eq = \"y = \" + str(round(slope,2)) + \"x +\" + str(round(intercept,2))\n",
    "\n",
    "plt.scatter(north_lat, north_temp)\n",
    "plt.plot(north_lat,regress_values,\"r-\")\n",
    "\n",
    "plt.xlabel('Latitude')\n",
    "plt.ylabel('Max Temperature')\n",
    "plt.annotate(line_eq,(10,15),fontsize=15,color=\"red\")\n",
    "\n",
    "print(f\"The r-value is: {rvalue**2}\")\n",
    "plt.savefig(\"../north_temp-lat.png\")\n",
    "plt.show()"
   ]
  },
  {
   "cell_type": "markdown",
   "metadata": {},
   "source": [
    "####  Southern Hemisphere - Max Temp vs. Latitude Linear Regression"
   ]
  },
  {
   "cell_type": "code",
   "execution_count": 37,
   "metadata": {},
   "outputs": [
    {
     "name": "stdout",
     "output_type": "stream",
     "text": [
      "The r-value is: 0.6005427895167982\n"
     ]
    },
    {
     "data": {
      "image/png": "[encoded data removed]",
      "text/plain": [
       "<Figure size 432x288 with 1 Axes>"
      ]
     },
     "metadata": {
      "needs_background": "light"
     },
     "output_type": "display_data"
    }
   ],
   "source": [
    "(slope, intercept, rvalue, pvalue, stderr) = linregress(south_lat, south_temp)\n",
    "regress_values = south_lat * slope + intercept\n",
    "line_eq = \"y = \" + str(round(slope,2)) + \"x +\" + str(round(intercept,2))\n",
    "\n",
    "plt.scatter(south_lat, south_temp)\n",
    "plt.plot(south_lat,regress_values,\"r-\")\n",
    "\n",
    "plt.xlabel('Latitude')\n",
    "plt.ylabel('Max Temperature')\n",
    "plt.annotate(line_eq,(-50,90),fontsize=15,color=\"red\")\n",
    "\n",
    "print(f\"The r-value is: {rvalue**2}\")\n",
    "plt.savefig(\"../south_temp-lat.png\")\n",
    "plt.show()"
   ]
  },
  {
   "cell_type": "markdown",
   "metadata": {},
   "source": [
    "The regression here is showing a high correlation between latitude and temperature, namely that the closer to the equator that you get, the higher the temperature. The correlation is, oddly, stronger in the northern hemisphere than the southern (0.73 vs 0.6 r-value)."
   ]
  },
  {
   "cell_type": "markdown",
   "metadata": {},
   "source": [
    "####  Northern Hemisphere - Humidity (%) vs. Latitude Linear Regression"
   ]
  },
  {
   "cell_type": "code",
   "execution_count": 33,
   "metadata": {},
   "outputs": [
    {
     "name": "stdout",
     "output_type": "stream",
     "text": [
      "The r-value is: 0.02764964267165101\n"
     ]
    },
    {
     "data": {
      "image/png": "[encoded data removed]",
      "text/plain": [
       "<Figure size 432x288 with 1 Axes>"
      ]
     },
     "metadata": {
      "needs_background": "light"
     },
     "output_type": "display_data"
    }
   ],
   "source": [
    "(slope, intercept, rvalue, pvalue, stderr) = linregress(north_lat, north_hum)\n",
    "regress_values = north_lat * slope + intercept\n",
    "line_eq = \"y = \" + str(round(slope,2)) + \"x +\" + str(round(intercept,2))\n",
    "\n",
    "plt.scatter(north_lat, north_hum)\n",
    "plt.plot(north_lat,regress_values,\"r-\")\n",
    "\n",
    "plt.xlabel('Latitude')\n",
    "plt.ylabel('Humidity (%)')\n",
    "plt.annotate(line_eq,(45,15),fontsize=15,color=\"red\")\n",
    "\n",
    "print(f\"The r-value is: {rvalue**2}\")\n",
    "plt.savefig(\"../north_lat-hum.png\")\n",
    "plt.show()"
   ]
  },
  {
   "cell_type": "markdown",
   "metadata": {},
   "source": [
    "####  Southern Hemisphere - Humidity (%) vs. Latitude Linear Regression"
   ]
  },
  {
   "cell_type": "code",
   "execution_count": 34,
   "metadata": {},
   "outputs": [
    {
     "name": "stdout",
     "output_type": "stream",
     "text": [
      "The r-value is: 0.0017101011580508499\n"
     ]
    },
    {
     "data": {
      "image/png": "[encoded data removed]",
      "text/plain": [
       "<Figure size 432x288 with 1 Axes>"
      ]
     },
     "metadata": {
      "needs_background": "light"
     },
     "output_type": "display_data"
    }
   ],
   "source": [
    "(slope, intercept, rvalue, pvalue, stderr) = linregress(south_lat, south_hum)\n",
    "regress_values = south_lat * slope + intercept\n",
    "line_eq = \"y = \" + str(round(slope,2)) + \"x +\" + str(round(intercept,2))\n",
    "\n",
    "plt.scatter(south_lat, south_hum)\n",
    "plt.plot(south_lat,regress_values,\"r-\")\n",
    "\n",
    "plt.xlabel('Latitude')\n",
    "plt.ylabel('Humidity (%)')\n",
    "plt.annotate(line_eq,(10,15),fontsize=15,color=\"red\")\n",
    "\n",
    "print(f\"The r-value is: {rvalue**2}\")\n",
    "plt.savefig(\"../south_hum-lat.png\")\n",
    "plt.show()"
   ]
  },
  {
   "cell_type": "markdown",
   "metadata": {},
   "source": [
    "The regression model for humidity shows that there is essentially no correlation between humidity and latitude. "
   ]
  },
  {
   "cell_type": "markdown",
   "metadata": {},
   "source": [
    "####  Northern Hemisphere - Cloudiness (%) vs. Latitude Linear Regression"
   ]
  },
  {
   "cell_type": "code",
   "execution_count": 39,
   "metadata": {},
   "outputs": [
    {
     "name": "stdout",
     "output_type": "stream",
     "text": [
      "The r-value is: 0.04302591541263046\n"
     ]
    },
    {
     "data": {
      "image/png": "[encoded data removed]",
      "text/plain": [
       "<Figure size 432x288 with 1 Axes>"
      ]
     },
     "metadata": {
      "needs_background": "light"
     },
     "output_type": "display_data"
    }
   ],
   "source": [
    "(slope, intercept, rvalue, pvalue, stderr) = linregress(north_lat, north_cloud)\n",
    "regress_values = north_lat * slope + intercept\n",
    "line_eq = \"y = \" + str(round(slope,2)) + \"x +\" + str(round(intercept,2))\n",
    "\n",
    "plt.scatter(north_lat, north_cloud)\n",
    "plt.plot(north_lat,regress_values,\"r-\")\n",
    "\n",
    "plt.xlabel('Latitude')\n",
    "plt.ylabel('Cloudiness (%)')\n",
    "plt.annotate(line_eq,(45,30),fontsize=15,color=\"red\")\n",
    "\n",
    "print(f\"The r-value is: {rvalue**2}\")\n",
    "plt.savefig(\"../north_lat-cloud.png\")\n",
    "plt.show()"
   ]
  },
  {
   "cell_type": "markdown",
   "metadata": {},
   "source": [
    "####  Southern Hemisphere - Cloudiness (%) vs. Latitude Linear Regression"
   ]
  },
  {
   "cell_type": "code",
   "execution_count": 42,
   "metadata": {},
   "outputs": [
    {
     "name": "stdout",
     "output_type": "stream",
     "text": [
      "The r-value is: 1.4496907371856694e-05\n"
     ]
    },
    {
     "data": {
      "image/png": "[encoded data removed]",
      "text/plain": [
       "<Figure size 432x288 with 1 Axes>"
      ]
     },
     "metadata": {
      "needs_background": "light"
     },
     "output_type": "display_data"
    }
   ],
   "source": [
    "(slope, intercept, rvalue, pvalue, stderr) = linregress(south_lat, south_cloud)\n",
    "regress_values = south_lat * slope + intercept\n",
    "line_eq = \"y = \" + str(round(slope,2)) + \"x +\" + str(round(intercept,2))\n",
    "\n",
    "plt.scatter(south_lat, south_cloud)\n",
    "plt.plot(south_lat,regress_values,\"r-\")\n",
    "\n",
    "plt.xlabel('Latitude')\n",
    "plt.ylabel('Cloudiness (%)')\n",
    "plt.annotate(line_eq,(-55,20),fontsize=15,color=\"red\")\n",
    "\n",
    "print(f\"The r-value is: {rvalue**2}\")\n",
    "plt.savefig(\"../south_lat-cloud.png\")\n",
    "plt.show()"
   ]
  },
  {
   "cell_type": "markdown",
   "metadata": {},
   "source": [
    "There is minimal correlation between latitude and cloudiness. There does appear to be something wrong with the regression model for the southern hemisphere, though, as it's r-value is greater than 1. Based on what I was able to find when researching why this would happen, the general consensus was that the sample size was too small. This does track with the other odd patterns observed in the southern hemisphere data. "
   ]
  },
  {
   "cell_type": "markdown",
   "metadata": {},
   "source": [
    "####  Northern Hemisphere - Wind Speed (mph) vs. Latitude Linear Regression"
   ]
  },
  {
   "cell_type": "code",
   "execution_count": 44,
   "metadata": {},
   "outputs": [
    {
     "name": "stdout",
     "output_type": "stream",
     "text": [
      "The r-value is: 0.0433837696976923\n"
     ]
    },
    {
     "data": {
      "image/png": "[encoded data removed]",
      "text/plain": [
       "<Figure size 432x288 with 1 Axes>"
      ]
     },
     "metadata": {
      "needs_background": "light"
     },
     "output_type": "display_data"
    }
   ],
   "source": [
    "(slope, intercept, rvalue, pvalue, stderr) = linregress(north_lat, north_wind)\n",
    "regress_values = north_lat * slope + intercept\n",
    "line_eq = \"y = \" + str(round(slope,2)) + \"x +\" + str(round(intercept,2))\n",
    "\n",
    "plt.scatter(north_lat, north_wind)\n",
    "plt.plot(north_lat,regress_values,\"r-\")\n",
    "\n",
    "plt.xlabel('Latitude')\n",
    "plt.ylabel('Wind Speed (mph)')\n",
    "plt.annotate(line_eq,(30,30),fontsize=15,color=\"red\")\n",
    "\n",
    "print(f\"The r-value is: {rvalue**2}\")\n",
    "plt.savefig(\"../north_lat-wind.png\")\n",
    "plt.show()"
   ]
  },
  {
   "cell_type": "markdown",
   "metadata": {},
   "source": [
    "####  Southern Hemisphere - Wind Speed (mph) vs. Latitude Linear Regression"
   ]
  },
  {
   "cell_type": "code",
   "execution_count": 46,
   "metadata": {},
   "outputs": [
    {
     "name": "stdout",
     "output_type": "stream",
     "text": [
      "The r-value is: 0.04540321722658006\n"
     ]
    },
    {
     "data": {
      "image/png": "[encoded data removed]",
      "text/plain": [
       "<Figure size 432x288 with 1 Axes>"
      ]
     },
     "metadata": {
      "needs_background": "light"
     },
     "output_type": "display_data"
    }
   ],
   "source": [
    "(slope, intercept, rvalue, pvalue, stderr) = linregress(south_lat, south_wind)\n",
    "regress_values = south_lat * slope + intercept\n",
    "line_eq = \"y = \" + str(round(slope,2)) + \"x +\" + str(round(intercept,2))\n",
    "\n",
    "plt.scatter(south_lat, south_wind)\n",
    "plt.plot(south_lat,regress_values,\"r-\")\n",
    "\n",
    "plt.xlabel('Latitude')\n",
    "plt.ylabel('Wind Speed (mph)')\n",
    "plt.annotate(line_eq,(-40,35),fontsize=15,color=\"red\")\n",
    "\n",
    "print(f\"The r-value is: {rvalue**2}\")\n",
    "plt.savefig(\"../south_lat-wind.png\")\n",
    "plt.show()"
   ]
  },
  {
   "cell_type": "markdown",
   "metadata": {},
   "source": [
    "The correlation between wind speed and latitude is very similar for both the northern and southern hemispheres (r-value is appx. 0.04). Unfortunately, there is still no strong correlation between these two factors. "
   ]
  }
 ],
 "metadata": {
  "anaconda-cloud": {},
  "kernel_info": {
   "name": "python3"
  },
  "kernelspec": {
   "display_name": "Python 3",
   "language": "python",
   "name": "python3"
  },
  "language_info": {
   "codemirror_mode": {
    "name": "ipython",
    "version": 3
   },
   "file_extension": ".py",
   "mimetype": "text/x-python",
   "name": "python",
   "nbconvert_exporter": "python",
   "pygments_lexer": "ipython3",
   "version": "3.8.5"
  },
  "latex_envs": {
   "LaTeX_envs_menu_present": true,
   "autoclose": false,
   "autocomplete": true,
   "bibliofile": "biblio.bib",
   "cite_by": "apalike",
   "current_citInitial": 1,
   "eqLabelWithNumbers": true,
   "eqNumInitial": 1,
   "hotkeys": {
    "equation": "Ctrl-E",
    "itemize": "Ctrl-I"
   },
   "labels_anchors": false,
   "latex_user_defs": false,
   "report_style_numbering": false,
   "user_envs_cfg": false
  },
  "nteract": {
   "version": "0.12.3"
  }
 },
 "nbformat": 4,
 "nbformat_minor": 2
}
